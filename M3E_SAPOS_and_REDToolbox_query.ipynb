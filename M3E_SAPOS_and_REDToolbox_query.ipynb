{
 "cells": [
  {
   "cell_type": "markdown",
   "id": "e25cf1f2",
   "metadata": {},
   "source": [
    "# SAPOS Query Generator 📡\n",
    "# &\n",
    "# REDToolBox PPK tagging pipeline\n",
    "\n",
    "This Jupyter notebook is an interactive wrapper around the original **`sapos_query.py`** script.  \n",
    "It lets you generate the SAPOS query string for **Wingtra** and **DJI Zenmuse L2** datasets *without* using the command line:\n",
    "\n",
    "1. **Point the notebook at your data folder** (the one you would normally pass to the script).\n",
    "2. Run the cell – the notebook detects whether it’s Wingtra or L2 data.\n",
    "3. It prints the SAPOS query string **and** writes `@sapos_query.txt` in that same folder.\n",
    "4. Generates a REDToolBox Query for PPK geotagging of M3E imagery\n",
    "5. Copys corrected images to a separate folder\n",
    "\n",
    "> **Tip:** You can keep the notebook open and change the `data_dir` variable for each flight you process.\n",
    "\n",
    "---"
   ]
  },
  {
   "cell_type": "code",
   "execution_count": 1,
   "id": "cec22112",
   "metadata": {},
   "outputs": [],
   "source": [
    "import os\n",
    "import re\n",
    "import time\n",
    "from datetime import datetime, timedelta\n",
    "from math import ceil\n",
    "\n",
    "import pytz\n",
    "from modules.platform import * #import for platforms such as DJI L2 or Wingtra data\n",
    "from modules.sapos_query import * #import sapos query\n",
    "from modules.sapos_batch import *\n",
    "from modules.rename_rinex_tool import *\n",
    "from modules.move_files import *\n",
    "from modules.move_files_las import *\n",
    "from modules.wze_uav import *\n",
    "\n",
    "# exifread is only required if you extend the notebook to read EXIF data\n",
    "# import exifread\n"
   ]
  },
  {
   "cell_type": "markdown",
   "id": "f4eeaea2-a6ca-4a65-90c9-e23e08c8de66",
   "metadata": {},
   "source": [
    "### SAPOS query generation (IF DJI is in the image and mrk names!!! Otherwise use batch_generate_sapos_queries_v2)"
   ]
  },
  {
   "cell_type": "code",
   "execution_count": 4,
   "id": "c2095bce-fbc5-4471-8834-0b72c0dd446b",
   "metadata": {},
   "outputs": [
    {
     "name": "stdout",
     "output_type": "stream",
     "text": [
      "🛸 Detected DJI Mavic 3 Enterprise dataset\n",
      "📄 47,884629015   12,134873464999998   586   06.08.2025   08:06:42   38   1   R3   Rosenheim1\n",
      "✅ SAPOS query written to D:\\Drohnendaten\\15_FESMART\\01_Daten\\04_Rosenheim\\01_Befliegungen_M3E\\DJI_202508061017_001_Rosenheim1\\@sapos_query.txt\n",
      "✅ DJI_202508061017_001_Rosenheim1\n",
      "🛸 Detected DJI Mavic 3 Enterprise dataset\n",
      "📄 47,86211545   12,095301335   606   06.08.2025   08:54:42   23   1   R3   Rosenheim2OST\n",
      "✅ SAPOS query written to D:\\Drohnendaten\\15_FESMART\\01_Daten\\04_Rosenheim\\01_Befliegungen_M3E\\DJI_202508061105_002_Rosenheim2OST\\@sapos_query.txt\n",
      "✅ DJI_202508061105_002_Rosenheim2OST\n",
      "🛸 Detected DJI Mavic 3 Enterprise dataset\n",
      "📄 47,86327131   12,095235915   613   06.08.2025   08:54:42   41   1   R3   Rosenheim2OST\n",
      "✅ SAPOS query written to D:\\Drohnendaten\\15_FESMART\\01_Daten\\04_Rosenheim\\01_Befliegungen_M3E\\DJI_202508061105_003_Rosenheim2OST\\@sapos_query.txt\n",
      "✅ DJI_202508061105_003_Rosenheim2OST\n",
      "🛸 Detected DJI Mavic 3 Enterprise dataset\n",
      "📄 47,86732071   12,086310319999999   614   06.08.2025   09:28:42   30   1   R3   Rosenheim2WEST\n",
      "✅ SAPOS query written to D:\\Drohnendaten\\15_FESMART\\01_Daten\\04_Rosenheim\\01_Befliegungen_M3E\\DJI_202508061139_004_Rosenheim2WEST\\@sapos_query.txt\n",
      "✅ DJI_202508061139_004_Rosenheim2WEST\n",
      "🛸 Detected DJI Mavic 3 Enterprise dataset\n",
      "📄 47,83450038   12,130600335   590   06.08.2025   10:03:42   32   1   R3   Rosenheim3a\n",
      "✅ SAPOS query written to D:\\Drohnendaten\\15_FESMART\\01_Daten\\04_Rosenheim\\01_Befliegungen_M3E\\DJI_202508061214_005_Rosenheim3a\\@sapos_query.txt\n",
      "✅ DJI_202508061214_005_Rosenheim3a\n",
      "🛸 Detected DJI Mavic 3 Enterprise dataset\n",
      "📄 47,826806325   12,0458601   618   06.08.2025   10:38:42   33   1   R3   Rosenheim4\n",
      "✅ SAPOS query written to D:\\Drohnendaten\\15_FESMART\\01_Daten\\04_Rosenheim\\01_Befliegungen_M3E\\DJI_202508061249_006_Rosenheim4\\@sapos_query.txt\n",
      "✅ DJI_202508061249_006_Rosenheim4\n",
      "🛸 Detected DJI Mavic 3 Enterprise dataset\n",
      "📄 47,80565847   12,067123200000001   625   06.08.2025   11:13:42   24   1   R3   Rosenheim5\n",
      "✅ SAPOS query written to D:\\Drohnendaten\\15_FESMART\\01_Daten\\04_Rosenheim\\01_Befliegungen_M3E\\DJI_202508061324_007_Rosenheim5\\@sapos_query.txt\n",
      "✅ DJI_202508061324_007_Rosenheim5\n",
      "🛸 Detected DJI Mavic 3 Enterprise dataset\n",
      "📄 47,80570174   12,072404124999998   612   06.08.2025   11:13:42   28   1   R3   Rosenheim5\n",
      "✅ SAPOS query written to D:\\Drohnendaten\\15_FESMART\\01_Daten\\04_Rosenheim\\01_Befliegungen_M3E\\DJI_202508061324_008_Rosenheim5\\@sapos_query.txt\n",
      "✅ DJI_202508061324_008_Rosenheim5\n",
      "🛸 Detected DJI Mavic 3 Enterprise dataset\n",
      "📄 47,807072274999996   12,072101555   621   06.08.2025   11:13:42   38   1   R3   Rosenheim5\n",
      "✅ SAPOS query written to D:\\Drohnendaten\\15_FESMART\\01_Daten\\04_Rosenheim\\01_Befliegungen_M3E\\DJI_202508061324_009_Rosenheim5\\@sapos_query.txt\n",
      "✅ DJI_202508061324_009_Rosenheim5\n",
      "🛸 Detected DJI Mavic 3 Enterprise dataset\n",
      "📄 47,80935394   12,067333895   619   06.08.2025   11:33:42   30   1   R3   Rosenheim5\n",
      "✅ SAPOS query written to D:\\Drohnendaten\\15_FESMART\\01_Daten\\04_Rosenheim\\01_Befliegungen_M3E\\DJI_202508061344_010_Rosenheim5\\@sapos_query.txt\n",
      "✅ DJI_202508061344_010_Rosenheim5\n",
      "\n",
      "📝  10 query line(s) saved to D:\\Drohnendaten\\15_FESMART\\01_Daten\\all_sapos_queries.txt\n"
     ]
    }
   ],
   "source": [
    "batch_generate_sapos_queries(\n",
    "    root_dir   = r\"D:\\Drohnendaten\\15_FESMART\\01_Daten\\04_Rosenheim\\01_Befliegungen_M3E\",\n",
    "    master_out = r\"D:\\Drohnendaten\\15_FESMART\\01_Daten\",  \n",
    "    recurse    = True\n",
    ")"
   ]
  },
  {
   "cell_type": "markdown",
   "id": "25dae32d-b9fd-4455-ae66-80b71a17059e",
   "metadata": {},
   "source": [
    "### Move SAPOS files into matching folders"
   ]
  },
  {
   "cell_type": "code",
   "execution_count": 4,
   "id": "89d81458-39cb-49ed-9c76-51972570c3c1",
   "metadata": {},
   "outputs": [
    {
     "name": "stdout",
     "output_type": "stream",
     "text": [
      "No matching files found to move.\n"
     ]
    }
   ],
   "source": [
    "organize_files(r\"D:\\Drohnendaten\\15_FESMART\\01_Daten\\08_Hirschbach\\01_Befliegung_M3E\", rename_on_conflict=False)"
   ]
  },
  {
   "cell_type": "markdown",
   "id": "28df3705-6fb8-4a1b-833d-10afae2bef12",
   "metadata": {},
   "source": [
    "### Generate REDToolBox Query"
   ]
  },
  {
   "cell_type": "code",
   "execution_count": 3,
   "id": "3bafbf2a-8975-4740-b4aa-43d53c72a3a6",
   "metadata": {},
   "outputs": [
    {
     "data": {
      "text/plain": [
       "['D:\\\\Drohnendaten\\\\15_FESMART\\\\01_Daten\\\\04_Rosenheim\\\\01_Befliegungen_M3E\\\\DJI_202508061017_Rosenheim1',\n",
       " 'D:\\\\Drohnendaten\\\\15_FESMART\\\\01_Daten\\\\04_Rosenheim\\\\01_Befliegungen_M3E\\\\DJI_202508061105_Rosenheim2OSTa',\n",
       " 'D:\\\\Drohnendaten\\\\15_FESMART\\\\01_Daten\\\\04_Rosenheim\\\\01_Befliegungen_M3E\\\\DJI_202508061105_Rosenheim2OSTb',\n",
       " 'D:\\\\Drohnendaten\\\\15_FESMART\\\\01_Daten\\\\04_Rosenheim\\\\01_Befliegungen_M3E\\\\DJI_202508061139_Rosenheim2WEST',\n",
       " 'D:\\\\Drohnendaten\\\\15_FESMART\\\\01_Daten\\\\04_Rosenheim\\\\01_Befliegungen_M3E\\\\DJI_202508061214_Rosenheim3a',\n",
       " 'D:\\\\Drohnendaten\\\\15_FESMART\\\\01_Daten\\\\04_Rosenheim\\\\01_Befliegungen_M3E\\\\DJI_202508061249_Rosenheim4',\n",
       " 'D:\\\\Drohnendaten\\\\15_FESMART\\\\01_Daten\\\\04_Rosenheim\\\\01_Befliegungen_M3E\\\\DJI_202508061324_Rosenheim5a',\n",
       " 'D:\\\\Drohnendaten\\\\15_FESMART\\\\01_Daten\\\\04_Rosenheim\\\\01_Befliegungen_M3E\\\\DJI_202508061324_Rosenheim5b',\n",
       " 'D:\\\\Drohnendaten\\\\15_FESMART\\\\01_Daten\\\\04_Rosenheim\\\\01_Befliegungen_M3E\\\\DJI_202508061324_Rosenheim5c',\n",
       " 'D:\\\\Drohnendaten\\\\15_FESMART\\\\01_Daten\\\\04_Rosenheim\\\\01_Befliegungen_M3E\\\\DJI_202508061344_Rosenheim5d']"
      ]
     },
     "execution_count": 3,
     "metadata": {},
     "output_type": "execute_result"
    }
   ],
   "source": [
    "master = r\"D:\\Drohnendaten\\15_FESMART\\01_Daten\\04_Rosenheim\\01_Befliegungen_M3E\"\n",
    "\n",
    "# Only direct subfolders (folder1, folder2, folder3, …)\n",
    "paths = list_folders(master, output_txt=r\"D:\\Drohnendaten\\15_FESMART\\01_Daten\\redtoolbox_list_rosenheim.txt\", recursive=False)\n",
    "paths"
   ]
  },
  {
   "cell_type": "markdown",
   "id": "48dee7e3-9f61-4a51-9eba-eca32a672a6d",
   "metadata": {},
   "source": [
    "### Generate .batch for REDToolBox batch geotagging"
   ]
  },
  {
   "cell_type": "code",
   "execution_count": 2,
   "id": "ca57168c-7088-49cc-b8da-160e3f38d03d",
   "metadata": {},
   "outputs": [
    {
     "name": "stdout",
     "output_type": "stream",
     "text": [
      "Starting batch generation\n",
      "Processing D:\\Drohnendaten\\15_FESMART\\01_Daten\\04_Rosenheim\\01_Befliegungen_M3E\\DJI_202508061017_Rosenheim1\n",
      "    Found MRK file: DJI_202508061017_001_Rosenheim1_Timestamp.MRK\n",
      "    Found OBS file: DJI_202508061017_001_Rosenheim1_PPKOBS.obs\n",
      "    Found O file: Rosenheim1_1050218.25o\n",
      "    Found P file: Rosenheim1_Ephm218.25p\n",
      "Processing D:\\Drohnendaten\\15_FESMART\\01_Daten\\04_Rosenheim\\01_Befliegungen_M3E\\DJI_202508061105_Rosenheim2OSTa\n",
      "    Found MRK file: DJI_202508061105_002_Rosenheim2OST_Timestamp.MRK\n",
      "    Found OBS file: DJI_202508061105_002_Rosenheim2OST_PPKOBS.obs\n",
      "    Found O file: Rosenheim2OSTa_1051218.25o\n",
      "    Found P file: Rosenheim2OSTa_Ephm218.25p\n",
      "Processing D:\\Drohnendaten\\15_FESMART\\01_Daten\\04_Rosenheim\\01_Befliegungen_M3E\\DJI_202508061105_Rosenheim2OSTb\n",
      "    Found MRK file: DJI_202508061105_003_Rosenheim2OST_Timestamp.MRK\n",
      "    Found OBS file: DJI_202508061105_003_Rosenheim2OST_PPKOBS.obs\n",
      "    Found O file: Rosenheim2OSTb_1052218.25o\n",
      "    Found P file: Rosenheim2OSTb_Ephm218.25p\n",
      "Processing D:\\Drohnendaten\\15_FESMART\\01_Daten\\04_Rosenheim\\01_Befliegungen_M3E\\DJI_202508061139_Rosenheim2WEST\n",
      "    Found MRK file: DJI_202508061139_004_Rosenheim2WEST_Timestamp.MRK\n",
      "    Found OBS file: DJI_202508061139_004_Rosenheim2WEST_PPKOBS.obs\n",
      "    Found O file: Rosenheim2WEST_1053218.25o\n",
      "    Found P file: Rosenheim2WEST_Ephm218.25p\n",
      "Processing D:\\Drohnendaten\\15_FESMART\\01_Daten\\04_Rosenheim\\01_Befliegungen_M3E\\DJI_202508061214_Rosenheim3a\n",
      "    Found MRK file: DJI_202508061214_005_Rosenheim3a_Timestamp.MRK\n",
      "    Found OBS file: DJI_202508061214_005_Rosenheim3a_PPKOBS.obs\n",
      "    Found O file: Rosenheim3a_1054218.25o\n",
      "    Found P file: Rosenheim3a_Ephm218.25p\n",
      "Processing D:\\Drohnendaten\\15_FESMART\\01_Daten\\04_Rosenheim\\01_Befliegungen_M3E\\DJI_202508061249_Rosenheim4\n",
      "    Found MRK file: DJI_202508061249_006_Rosenheim4_Timestamp.MRK\n",
      "    Found OBS file: DJI_202508061249_006_Rosenheim4_PPKOBS.obs\n",
      "    Found O file: Rosenheim4_1055218.25o\n",
      "    Found P file: Rosenheim4_Ephm218.25p\n",
      "Processing D:\\Drohnendaten\\15_FESMART\\01_Daten\\04_Rosenheim\\01_Befliegungen_M3E\\DJI_202508061324_Rosenheim5a\n",
      "    Found MRK file: DJI_202508061324_007_Rosenheim5_Timestamp.MRK\n",
      "    Found OBS file: DJI_202508061324_007_Rosenheim5_PPKOBS.obs\n",
      "    Found O file: Rosenheim5a_1056218.25o\n",
      "    Found P file: Rosenheim5a_Ephm218.25p\n",
      "Processing D:\\Drohnendaten\\15_FESMART\\01_Daten\\04_Rosenheim\\01_Befliegungen_M3E\\DJI_202508061324_Rosenheim5b\n",
      "    Found MRK file: DJI_202508061324_008_Rosenheim5_Timestamp.MRK\n",
      "    Found OBS file: DJI_202508061324_008_Rosenheim5_PPKOBS.obs\n",
      "    Found O file: Rosenheim5b_1057218.25o\n",
      "    Found P file: Rosenheim5b_Ephm218.25p\n",
      "Processing D:\\Drohnendaten\\15_FESMART\\01_Daten\\04_Rosenheim\\01_Befliegungen_M3E\\DJI_202508061324_Rosenheim5c\n",
      "    Found MRK file: DJI_202508061324_009_Rosenheim5_Timestamp.MRK\n",
      "    Found OBS file: DJI_202508061324_009_Rosenheim5_PPKOBS.obs\n",
      "    Found O file: Rosenheim5c_1058218.25o\n",
      "    Found P file: Rosenheim5c_Ephm218.25p\n",
      "Processing D:\\Drohnendaten\\15_FESMART\\01_Daten\\04_Rosenheim\\01_Befliegungen_M3E\\DJI_202508061344_Rosenheim5d\n",
      "    Found MRK file: DJI_202508061344_010_Rosenheim5_Timestamp.MRK\n",
      "    Found OBS file: DJI_202508061344_010_Rosenheim5_PPKOBS.obs\n",
      "    Found O file: Rosenheim5d_1059218.25o\n",
      "    Found P file: Rosenheim5d_Ephm218.25p\n",
      "\n",
      "Total time elapsed: 0:00:00.364067\n",
      "Batch file written to: D:\\Ecke_Simon\\Redtoolbox_v4\\batch\\REDToolBox_CMD_Start_batch_ALL_2025-09-03_103151.bat\n"
     ]
    }
   ],
   "source": [
    "batch_dir = r'D:\\Ecke_Simon\\Redtoolbox_v4\\batch'\n",
    "log_dir = r'D:\\Ecke_Simon\\Redtoolbox_v4\\log'\n",
    "rtb_fn = r'D:\\Drohnendaten\\15_FESMART\\01_Daten\\redtoolbox_list_rosenheim.txt'\n",
    "generate_redtoolbox_batch_M3E(rtb_fn, batch_dir, log_dir, epn_yr='25') #set epn year to the year when the images were collected"
   ]
  },
  {
   "cell_type": "markdown",
   "id": "266e92e5-0d86-4574-ad35-354ff6dabfa8",
   "metadata": {},
   "source": [
    "### Now Windows Powershell needs to be used to do the REDToolBox PPK geotagging batch processing"
   ]
  },
  {
   "cell_type": "markdown",
   "id": "67a3580c-36d9-45a6-b755-6b7844558085",
   "metadata": {},
   "source": [
    "### Afterwards copy any files except the PPK images to a separate location"
   ]
  },
  {
   "cell_type": "code",
   "execution_count": 2,
   "id": "4011d55c-1e7b-447c-8b82-088a9aa3e194",
   "metadata": {},
   "outputs": [
    {
     "name": "stdout",
     "output_type": "stream",
     "text": [
      "Done. Moved 1208 file(s).\n"
     ]
    }
   ],
   "source": [
    "master = r\"D:\\Drohnendaten\\15_FESMART\\01_Daten\\09_Koenigstein\\01_Befliegungen\"\n",
    "dest   = r\"D:\\Drohnendaten\\15_FESMART\\01_Daten\\09_Koenigstein\\TEMP\"\n",
    "move_files_like_subfolders(master, dest, ignore_folder_name=\"output_dir\", recursive=False, dry_run=False)"
   ]
  },
  {
   "cell_type": "code",
   "execution_count": null,
   "id": "98801233-9d5a-4e56-b724-47284025ec5d",
   "metadata": {},
   "outputs": [],
   "source": []
  }
 ],
 "metadata": {
  "kernelspec": {
   "display_name": "Python 3 (ipykernel)",
   "language": "python",
   "name": "python3"
  },
  "language_info": {
   "codemirror_mode": {
    "name": "ipython",
    "version": 3
   },
   "file_extension": ".py",
   "mimetype": "text/x-python",
   "name": "python",
   "nbconvert_exporter": "python",
   "pygments_lexer": "ipython3",
   "version": "3.9.22"
  }
 },
 "nbformat": 4,
 "nbformat_minor": 5
}
