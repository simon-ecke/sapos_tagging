{
 "cells": [
  {
   "cell_type": "markdown",
   "id": "e25cf1f2",
   "metadata": {},
   "source": [
    "# SAPOS Query Generator 📡\n",
    "# &\n",
    "# REDToolBox PPK tagging pipeline\n",
    "\n",
    "This Jupyter notebook is an interactive wrapper around the original **`sapos_query.py`** script.  \n",
    "It lets you generate the SAPOS query string for **Wingtra** and **DJI Zenmuse L2** datasets *without* using the command line:\n",
    "\n",
    "1. **Point the notebook at your data folder** (the one you would normally pass to the script).\n",
    "2. Run the cell – the notebook detects whether it’s Wingtra or L2 data.\n",
    "3. It prints the SAPOS query string **and** writes `@sapos_query.txt` in that same folder.\n",
    "4. Generates a REDToolBox Query for PPK geotagging of M3E imagery\n",
    "5. Copys corrected images to a separate folder\n",
    "\n",
    "> **Tip:** You can keep the notebook open and change the `data_dir` variable for each flight you process.\n",
    "\n",
    "---"
   ]
  },
  {
   "cell_type": "code",
   "execution_count": 1,
   "id": "cec22112",
   "metadata": {},
   "outputs": [],
   "source": [
    "import os\n",
    "import re\n",
    "import time\n",
    "from datetime import datetime, timedelta\n",
    "from math import ceil\n",
    "\n",
    "import pytz\n",
    "from modules.platform import * #import for platforms such as DJI L2 or Wingtra data\n",
    "from modules.sapos_query import * #import sapos query\n",
    "from modules.sapos_batch import *\n",
    "from modules.rename_rinex_tool import *\n",
    "from modules.move_files import *\n",
    "from modules.move_files_las import *\n",
    "from modules.wze_uav import extract_fplans, copy_vrs_for_fplans, generate_redtoolbox_batch, copy_ppk_images, list_folders, generate_redtoolbox_batch_M3E, move_files_like_subfolders\n",
    "\n",
    "# exifread is only required if you extend the notebook to read EXIF data\n",
    "# import exifread\n"
   ]
  },
  {
   "cell_type": "markdown",
   "id": "f4eeaea2-a6ca-4a65-90c9-e23e08c8de66",
   "metadata": {},
   "source": [
    "### SAPOS query generation (IF DJI is in the image and mrk names!!! Otherwise use batch_generate_sapos_queries_v2)"
   ]
  },
  {
   "cell_type": "code",
   "execution_count": 2,
   "id": "c2095bce-fbc5-4471-8834-0b72c0dd446b",
   "metadata": {},
   "outputs": [
    {
     "name": "stdout",
     "output_type": "stream",
     "text": [
      "🛸 Detected DJI Mavic 3 Enterprise dataset\n",
      "📄 49,594553305000005   11,6653131   649   12.08.2025   07:32:42   24   1   R3   Koenigstein-5\n",
      "✅ SAPOS query written to D:\\Drohnendaten\\15_FESMART\\01_Daten\\09_Koenigstein\\01_Befliegungen\\DJI_202508120943_044_Koenigstein-5\\@sapos_query.txt\n",
      "✅ DJI_202508120943_044_Koenigstein-5\n",
      "🛸 Detected DJI Mavic 3 Enterprise dataset\n",
      "📄 49,594121560000005   11,657591935   700   12.08.2025   07:32:42   27   1   R3   Koenigstein-8\n",
      "✅ SAPOS query written to D:\\Drohnendaten\\15_FESMART\\01_Daten\\09_Koenigstein\\01_Befliegungen\\DJI_202508120943_045_Koenigstein-8\\@sapos_query.txt\n",
      "✅ DJI_202508120943_045_Koenigstein-8\n",
      "🛸 Detected DJI Mavic 3 Enterprise dataset\n",
      "📄 49,5897471   11,66184226   652   12.08.2025   07:32:42   33   1   R3   Koenigstein-21\n",
      "✅ SAPOS query written to D:\\Drohnendaten\\15_FESMART\\01_Daten\\09_Koenigstein\\01_Befliegungen\\DJI_202508120943_046_Koenigstein-21\\@sapos_query.txt\n",
      "✅ DJI_202508120943_046_Koenigstein-21\n",
      "🛸 Detected DJI Mavic 3 Enterprise dataset\n",
      "📄 49,598688695   11,646419985   728   12.08.2025   07:54:42   22   1   R3   Koenigstein-14\n",
      "✅ SAPOS query written to D:\\Drohnendaten\\15_FESMART\\01_Daten\\09_Koenigstein\\01_Befliegungen\\DJI_202508121005_048_Koenigstein-14\\@sapos_query.txt\n",
      "✅ DJI_202508121005_048_Koenigstein-14\n",
      "🛸 Detected DJI Mavic 3 Enterprise dataset\n",
      "📄 49,60161377   11,642559605   676   12.08.2025   07:54:42   24   1   R3   Koenigstein-18\n",
      "✅ SAPOS query written to D:\\Drohnendaten\\15_FESMART\\01_Daten\\09_Koenigstein\\01_Befliegungen\\DJI_202508121005_049_Koenigstein-18\\@sapos_query.txt\n",
      "✅ DJI_202508121005_049_Koenigstein-18\n",
      "🛸 Detected DJI Mavic 3 Enterprise dataset\n",
      "📄 49,6016156   11,642560315   675   12.08.2025   07:54:42   26   1   R3   Koenigstein-18\n",
      "✅ SAPOS query written to D:\\Drohnendaten\\15_FESMART\\01_Daten\\09_Koenigstein\\01_Befliegungen\\DJI_202508121005_050_Koenigstein-18\\@sapos_query.txt\n",
      "✅ DJI_202508121005_050_Koenigstein-18\n",
      "🛸 Detected DJI Mavic 3 Enterprise dataset\n",
      "📄 49,59916514   11,65009641   730   12.08.2025   07:54:42   30   1   R3   Koenigstein-13\n",
      "✅ SAPOS query written to D:\\Drohnendaten\\15_FESMART\\01_Daten\\09_Koenigstein\\01_Befliegungen\\DJI_202508121005_051_Koenigstein-13\\@sapos_query.txt\n",
      "✅ DJI_202508121005_051_Koenigstein-13\n",
      "🛸 Detected DJI Mavic 3 Enterprise dataset\n",
      "📄 49,605638705000004   11,64067894   702   12.08.2025   08:15:42   26   1   R3   Koenigstein-2-6-23\n",
      "✅ SAPOS query written to D:\\Drohnendaten\\15_FESMART\\01_Daten\\09_Koenigstein\\01_Befliegungen\\DJI_202508121026_052_Koenigstein-2-6-23\\@sapos_query.txt\n",
      "✅ DJI_202508121026_052_Koenigstein-2-6-23\n",
      "🛸 Detected DJI Mavic 3 Enterprise dataset\n",
      "📄 49,60889028   11,64248712   635   12.08.2025   08:15:42   29   1   R3   Koenigstein-4\n",
      "✅ SAPOS query written to D:\\Drohnendaten\\15_FESMART\\01_Daten\\09_Koenigstein\\01_Befliegungen\\DJI_202508121026_053_Koenigstein-4\\@sapos_query.txt\n",
      "✅ DJI_202508121026_053_Koenigstein-4\n",
      "🛸 Detected DJI Mavic 3 Enterprise dataset\n",
      "📄 49,61595005   11,627626809999999   704   12.08.2025   08:32:42   23   1   R3   Koenigstein-17\n",
      "✅ SAPOS query written to D:\\Drohnendaten\\15_FESMART\\01_Daten\\09_Koenigstein\\01_Befliegungen\\DJI_202508121043_054_Koenigstein-17\\@sapos_query.txt\n",
      "✅ DJI_202508121043_054_Koenigstein-17\n",
      "🛸 Detected DJI Mavic 3 Enterprise dataset\n",
      "📄 49,608713505   11,609793235000001   654   12.08.2025   08:38:42   33   1   R3   Koenigstein-1-3\n",
      "✅ SAPOS query written to D:\\Drohnendaten\\15_FESMART\\01_Daten\\09_Koenigstein\\01_Befliegungen\\DJI_202508121049_055_Koenigstein-1-3\\@sapos_query.txt\n",
      "✅ DJI_202508121049_055_Koenigstein-1-3\n",
      "🛸 Detected DJI Mavic 3 Enterprise dataset\n",
      "📄 49,612388304999996   11,611599125   673   12.08.2025   08:38:42   37   1   R3   Koenigstein-16-24\n",
      "✅ SAPOS query written to D:\\Drohnendaten\\15_FESMART\\01_Daten\\09_Koenigstein\\01_Befliegungen\\DJI_202508121049_056_Koenigstein-16-24\\@sapos_query.txt\n",
      "✅ DJI_202508121049_056_Koenigstein-16-24\n",
      "🛸 Detected DJI Mavic 3 Enterprise dataset\n",
      "📄 49,601535685   11,618030185   734   12.08.2025   09:03:42   25   1   R3   Koenigstein-15\n",
      "✅ SAPOS query written to D:\\Drohnendaten\\15_FESMART\\01_Daten\\09_Koenigstein\\01_Befliegungen\\DJI_202508121114_057_Koenigstein-15\\@sapos_query.txt\n",
      "✅ DJI_202508121114_057_Koenigstein-15\n",
      "🛸 Detected DJI Mavic 3 Enterprise dataset\n",
      "📄 49,60204082   11,633265699999999   690   12.08.2025   09:19:42   24   1   R3   Koenigstein-12\n",
      "✅ SAPOS query written to D:\\Drohnendaten\\15_FESMART\\01_Daten\\09_Koenigstein\\01_Befliegungen\\DJI_202508121130_058_Koenigstein-12\\@sapos_query.txt\n",
      "✅ DJI_202508121130_058_Koenigstein-12\n",
      "🛸 Detected DJI Mavic 3 Enterprise dataset\n",
      "📄 49,597636855   11,62841188   740   12.08.2025   09:19:42   27   1   R3   Koenigstein-9\n",
      "✅ SAPOS query written to D:\\Drohnendaten\\15_FESMART\\01_Daten\\09_Koenigstein\\01_Befliegungen\\DJI_202508121130_059_Koenigstein-9\\@sapos_query.txt\n",
      "✅ DJI_202508121130_059_Koenigstein-9\n",
      "🛸 Detected DJI Mavic 3 Enterprise dataset\n",
      "📄 49,59689118   11,63440734   695   12.08.2025   09:19:42   30   1   R3   Koenigstein-10\n",
      "✅ SAPOS query written to D:\\Drohnendaten\\15_FESMART\\01_Daten\\09_Koenigstein\\01_Befliegungen\\DJI_202508121130_060_Koenigstein-10\\@sapos_query.txt\n",
      "✅ DJI_202508121130_060_Koenigstein-10\n",
      "\n",
      "📝  16 query line(s) saved to D:\\Drohnendaten\\15_FESMART\\01_Daten\\all_sapos_queries.txt\n"
     ]
    }
   ],
   "source": [
    "batch_generate_sapos_queries(\n",
    "    root_dir   = r\"D:\\Drohnendaten\\15_FESMART\\01_Daten\\09_Koenigstein\\01_Befliegungen\",\n",
    "    master_out = r\"D:\\Drohnendaten\\15_FESMART\\01_Daten\",  \n",
    "    recurse    = True\n",
    ")"
   ]
  },
  {
   "cell_type": "markdown",
   "id": "25dae32d-b9fd-4455-ae66-80b71a17059e",
   "metadata": {},
   "source": [
    "### Move SAPOS files into matching folders"
   ]
  },
  {
   "cell_type": "code",
   "execution_count": 4,
   "id": "89d81458-39cb-49ed-9c76-51972570c3c1",
   "metadata": {},
   "outputs": [
    {
     "name": "stdout",
     "output_type": "stream",
     "text": [
      "No matching files found to move.\n"
     ]
    }
   ],
   "source": [
    "organize_files(r\"D:\\Drohnendaten\\15_FESMART\\01_Daten\\08_Hirschbach\\01_Befliegung_M3E\", rename_on_conflict=False)"
   ]
  },
  {
   "cell_type": "markdown",
   "id": "28df3705-6fb8-4a1b-833d-10afae2bef12",
   "metadata": {},
   "source": [
    "### Generate REDToolBox Query"
   ]
  },
  {
   "cell_type": "code",
   "execution_count": 7,
   "id": "3bafbf2a-8975-4740-b4aa-43d53c72a3a6",
   "metadata": {},
   "outputs": [
    {
     "data": {
      "text/plain": [
       "['D:\\\\Drohnendaten\\\\15_FESMART\\\\01_Daten\\\\09_Koenigstein\\\\01_Befliegungen\\\\DJI_202508120943_044_Koenigstein-5',\n",
       " 'D:\\\\Drohnendaten\\\\15_FESMART\\\\01_Daten\\\\09_Koenigstein\\\\01_Befliegungen\\\\DJI_202508120943_045_Koenigstein-8',\n",
       " 'D:\\\\Drohnendaten\\\\15_FESMART\\\\01_Daten\\\\09_Koenigstein\\\\01_Befliegungen\\\\DJI_202508120943_046_Koenigstein-21',\n",
       " 'D:\\\\Drohnendaten\\\\15_FESMART\\\\01_Daten\\\\09_Koenigstein\\\\01_Befliegungen\\\\DJI_202508121005_048_Koenigstein-14',\n",
       " 'D:\\\\Drohnendaten\\\\15_FESMART\\\\01_Daten\\\\09_Koenigstein\\\\01_Befliegungen\\\\DJI_202508121005_049_Koenigstein-18a',\n",
       " 'D:\\\\Drohnendaten\\\\15_FESMART\\\\01_Daten\\\\09_Koenigstein\\\\01_Befliegungen\\\\DJI_202508121005_050_Koenigstein-18b',\n",
       " 'D:\\\\Drohnendaten\\\\15_FESMART\\\\01_Daten\\\\09_Koenigstein\\\\01_Befliegungen\\\\DJI_202508121005_051_Koenigstein-13',\n",
       " 'D:\\\\Drohnendaten\\\\15_FESMART\\\\01_Daten\\\\09_Koenigstein\\\\01_Befliegungen\\\\DJI_202508121026_052_Koenigstein-2-6-23',\n",
       " 'D:\\\\Drohnendaten\\\\15_FESMART\\\\01_Daten\\\\09_Koenigstein\\\\01_Befliegungen\\\\DJI_202508121026_053_Koenigstein-4',\n",
       " 'D:\\\\Drohnendaten\\\\15_FESMART\\\\01_Daten\\\\09_Koenigstein\\\\01_Befliegungen\\\\DJI_202508121043_054_Koenigstein-17',\n",
       " 'D:\\\\Drohnendaten\\\\15_FESMART\\\\01_Daten\\\\09_Koenigstein\\\\01_Befliegungen\\\\DJI_202508121049_055_Koenigstein-1-3',\n",
       " 'D:\\\\Drohnendaten\\\\15_FESMART\\\\01_Daten\\\\09_Koenigstein\\\\01_Befliegungen\\\\DJI_202508121049_056_Koenigstein-16-24',\n",
       " 'D:\\\\Drohnendaten\\\\15_FESMART\\\\01_Daten\\\\09_Koenigstein\\\\01_Befliegungen\\\\DJI_202508121114_057_Koenigstein-15',\n",
       " 'D:\\\\Drohnendaten\\\\15_FESMART\\\\01_Daten\\\\09_Koenigstein\\\\01_Befliegungen\\\\DJI_202508121130_058_Koenigstein-12',\n",
       " 'D:\\\\Drohnendaten\\\\15_FESMART\\\\01_Daten\\\\09_Koenigstein\\\\01_Befliegungen\\\\DJI_202508121130_059_Koenigstein-9',\n",
       " 'D:\\\\Drohnendaten\\\\15_FESMART\\\\01_Daten\\\\09_Koenigstein\\\\01_Befliegungen\\\\DJI_202508121130_060_Koenigstein-10']"
      ]
     },
     "execution_count": 7,
     "metadata": {},
     "output_type": "execute_result"
    }
   ],
   "source": [
    "master = r\"D:\\Drohnendaten\\15_FESMART\\01_Daten\\09_Koenigstein\\01_Befliegungen\"\n",
    "\n",
    "# Only direct subfolders (folder1, folder2, folder3, …)\n",
    "paths = list_folders(master, rtb_fn=r\"D:\\Drohnendaten\\15_FESMART\\01_Daten\\09_Koenigstein\\01_Befliegungen\\redtoolbox_list.txt\", recursive=False)\n",
    "paths"
   ]
  },
  {
   "cell_type": "markdown",
   "id": "48dee7e3-9f61-4a51-9eba-eca32a672a6d",
   "metadata": {},
   "source": [
    "### Generate .batch for REDToolBox batch geotagging"
   ]
  },
  {
   "cell_type": "code",
   "execution_count": 8,
   "id": "ca57168c-7088-49cc-b8da-160e3f38d03d",
   "metadata": {},
   "outputs": [
    {
     "name": "stdout",
     "output_type": "stream",
     "text": [
      "Starting batch generation\n",
      "Processing D:\\Drohnendaten\\15_FESMART\\01_Daten\\09_Koenigstein\\01_Befliegungen\\DJI_202508120943_044_Koenigstein-5\n",
      "    Found MRK file: DJI_202508120943_044_Koenigstein-5_Timestamp.MRK\n",
      "    Found OBS file: DJI_202508120943_044_Koenigstein-5_PPKOBS.obs\n",
      "    Found O file: Koenigstein-5_0946224.25o\n",
      "    Found P file: Koenigstein-5_Ephm224.25p\n",
      "Processing D:\\Drohnendaten\\15_FESMART\\01_Daten\\09_Koenigstein\\01_Befliegungen\\DJI_202508120943_045_Koenigstein-8\n",
      "    Found MRK file: DJI_202508120943_045_Koenigstein-8_Timestamp.MRK\n",
      "    Found OBS file: DJI_202508120943_045_Koenigstein-8_PPKOBS.obs\n",
      "    Found O file: Koenigstein-8_0947224.25o\n",
      "    Found P file: Koenigstein-8_Ephm224.25p\n",
      "Processing D:\\Drohnendaten\\15_FESMART\\01_Daten\\09_Koenigstein\\01_Befliegungen\\DJI_202508120943_046_Koenigstein-21\n",
      "    Found MRK file: DJI_202508120943_046_Koenigstein-21_Timestamp.MRK\n",
      "    Found OBS file: DJI_202508120943_046_Koenigstein-21_PPKOBS.obs\n",
      "    Found O file: Koenigstein-21_0948224.25o\n",
      "    Found P file: Koenigstein-21_Ephm224.25p\n",
      "Processing D:\\Drohnendaten\\15_FESMART\\01_Daten\\09_Koenigstein\\01_Befliegungen\\DJI_202508121005_048_Koenigstein-14\n",
      "    Found MRK file: DJI_202508121005_048_Koenigstein-14_Timestamp.MRK\n",
      "    Found OBS file: DJI_202508121005_048_Koenigstein-14_PPKOBS.obs\n",
      "    Found O file: Koenigstein-14_0949224.25o\n",
      "    Found P file: Koenigstein-14_Ephm224.25p\n",
      "Processing D:\\Drohnendaten\\15_FESMART\\01_Daten\\09_Koenigstein\\01_Befliegungen\\DJI_202508121005_049_Koenigstein-18a\n",
      "    Found MRK file: DJI_202508121005_049_Koenigstein-18_Timestamp.MRK\n",
      "    Found OBS file: DJI_202508121005_049_Koenigstein-18_PPKOBS.obs\n",
      "    Found O file: Koenigstein-18a_1027224.25o\n",
      "    Found P file: Koenigstein-18a_Ephm224.25p\n",
      "Processing D:\\Drohnendaten\\15_FESMART\\01_Daten\\09_Koenigstein\\01_Befliegungen\\DJI_202508121005_050_Koenigstein-18b\n",
      "    Found MRK file: DJI_202508121005_050_Koenigstein-18_Timestamp.MRK\n",
      "    Found OBS file: DJI_202508121005_050_Koenigstein-18_PPKOBS.obs\n",
      "    Found O file: Koenigstein-18b_1028224.25o\n",
      "    Found P file: Koenigstein-18b_Ephm224.25p\n",
      "Processing D:\\Drohnendaten\\15_FESMART\\01_Daten\\09_Koenigstein\\01_Befliegungen\\DJI_202508121005_051_Koenigstein-13\n",
      "    Found MRK file: DJI_202508121005_051_Koenigstein-13_Timestamp.MRK\n",
      "    Found OBS file: DJI_202508121005_051_Koenigstein-13_PPKOBS.obs\n",
      "    Found O file: Koenigstein-13_0952224.25o\n",
      "    Found P file: Koenigstein-13_Ephm224.25p\n",
      "Processing D:\\Drohnendaten\\15_FESMART\\01_Daten\\09_Koenigstein\\01_Befliegungen\\DJI_202508121026_052_Koenigstein-2-6-23\n",
      "    Found MRK file: DJI_202508121026_052_Koenigstein-2-6-23_Timestamp.MRK\n",
      "    Found OBS file: DJI_202508121026_052_Koenigstein-2-6-23_PPKOBS.obs\n",
      "    Found O file: Koenigstein-2-6-23_0953224.25o\n",
      "    Found P file: Koenigstein-2-6-23_Ephm224.25p\n",
      "Processing D:\\Drohnendaten\\15_FESMART\\01_Daten\\09_Koenigstein\\01_Befliegungen\\DJI_202508121026_053_Koenigstein-4\n",
      "    Found MRK file: DJI_202508121026_053_Koenigstein-4_Timestamp.MRK\n",
      "    Found OBS file: DJI_202508121026_053_Koenigstein-4_PPKOBS.obs\n",
      "    Found O file: Koenigstein-4_0954224.25o\n",
      "    Found P file: Koenigstein-4_Ephm224.25p\n",
      "Processing D:\\Drohnendaten\\15_FESMART\\01_Daten\\09_Koenigstein\\01_Befliegungen\\DJI_202508121043_054_Koenigstein-17\n",
      "    Found MRK file: DJI_202508121043_054_Koenigstein-17_Timestamp.MRK\n",
      "    Found OBS file: DJI_202508121043_054_Koenigstein-17_PPKOBS.obs\n",
      "    Found O file: Koenigstein-17_0955224.25o\n",
      "    Found P file: Koenigstein-17_Ephm224.25p\n",
      "Processing D:\\Drohnendaten\\15_FESMART\\01_Daten\\09_Koenigstein\\01_Befliegungen\\DJI_202508121049_055_Koenigstein-1-3\n",
      "    Found MRK file: DJI_202508121049_055_Koenigstein-1-3_Timestamp.MRK\n",
      "    Found OBS file: DJI_202508121049_055_Koenigstein-1-3_PPKOBS.obs\n",
      "    Found O file: Koenigstein-1-3_0956224.25o\n",
      "    Found P file: Koenigstein-1-3_Ephm224.25p\n",
      "Processing D:\\Drohnendaten\\15_FESMART\\01_Daten\\09_Koenigstein\\01_Befliegungen\\DJI_202508121049_056_Koenigstein-16-24\n",
      "    Found MRK file: DJI_202508121049_056_Koenigstein-16-24_Timestamp.MRK\n",
      "    Found OBS file: DJI_202508121049_056_Koenigstein-16-24_PPKOBS.obs\n",
      "    Found O file: Koenigstein-16-24_0957224.25o\n",
      "    Found P file: Koenigstein-16-24_Ephm224.25p\n",
      "Processing D:\\Drohnendaten\\15_FESMART\\01_Daten\\09_Koenigstein\\01_Befliegungen\\DJI_202508121114_057_Koenigstein-15\n",
      "    Found MRK file: DJI_202508121114_057_Koenigstein-15_Timestamp.MRK\n",
      "    Found OBS file: DJI_202508121114_057_Koenigstein-15_PPKOBS.obs\n",
      "    Found O file: Koenigstein-15_0958224.25o\n",
      "    Found P file: Koenigstein-15_Ephm224.25p\n",
      "Processing D:\\Drohnendaten\\15_FESMART\\01_Daten\\09_Koenigstein\\01_Befliegungen\\DJI_202508121130_058_Koenigstein-12\n",
      "    Found MRK file: DJI_202508121130_058_Koenigstein-12_Timestamp.MRK\n",
      "    Found OBS file: DJI_202508121130_058_Koenigstein-12_PPKOBS.obs\n",
      "    Found O file: Koenigstein-12_0959224.25o\n",
      "    Found P file: Koenigstein-12_Ephm224.25p\n",
      "Processing D:\\Drohnendaten\\15_FESMART\\01_Daten\\09_Koenigstein\\01_Befliegungen\\DJI_202508121130_059_Koenigstein-9\n",
      "    Found MRK file: DJI_202508121130_059_Koenigstein-9_Timestamp.MRK\n",
      "    Found OBS file: DJI_202508121130_059_Koenigstein-9_PPKOBS.obs\n",
      "    Found O file: Koenigstein-9_0960224.25o\n",
      "    Found P file: Koenigstein-9_Ephm224.25p\n",
      "Processing D:\\Drohnendaten\\15_FESMART\\01_Daten\\09_Koenigstein\\01_Befliegungen\\DJI_202508121130_060_Koenigstein-10\n",
      "    Found MRK file: DJI_202508121130_060_Koenigstein-10_Timestamp.MRK\n",
      "    Found OBS file: DJI_202508121130_060_Koenigstein-10_PPKOBS.obs\n",
      "    Found O file: Koenigstein-10_0961224.25o\n",
      "    Found P file: Koenigstein-10_Ephm224.25p\n",
      "\n",
      "Total time elapsed: 0:00:00.458308\n",
      "Batch file written to: D:\\Ecke_Simon\\Redtoolbox_v4\\batch\\REDToolBox_CMD_Start_batch_ALL_2025-09-02_151601.bat\n"
     ]
    }
   ],
   "source": [
    "batch_dir = r'D:\\Ecke_Simon\\Redtoolbox_v4\\batch'\n",
    "log_dir = r'D:\\Ecke_Simon\\Redtoolbox_v4\\log'\n",
    "rtb_fn = r'D:\\Drohnendaten\\15_FESMART\\01_Daten\\09_Koenigstein\\01_Befliegungen\\redtoolbox_list.txt'\n",
    "generate_redtoolbox_batch_M3E(rtb_fn, batch_dir, log_dir, epn_yr='25') #set epn year to the year when the images were collected"
   ]
  },
  {
   "cell_type": "markdown",
   "id": "266e92e5-0d86-4574-ad35-354ff6dabfa8",
   "metadata": {},
   "source": [
    "### Now Windows Powershell needs to be used to do the REDToolBox PPK geotagging batch processing"
   ]
  },
  {
   "cell_type": "markdown",
   "id": "67a3580c-36d9-45a6-b755-6b7844558085",
   "metadata": {},
   "source": [
    "### Afterwards copy any files except the PPK images to a separate location"
   ]
  },
  {
   "cell_type": "code",
   "execution_count": 6,
   "id": "4011d55c-1e7b-447c-8b82-088a9aa3e194",
   "metadata": {},
   "outputs": [
    {
     "name": "stdout",
     "output_type": "stream",
     "text": [
      "Done. Moved 1057 file(s).\n"
     ]
    }
   ],
   "source": [
    "master = r\"D:\\Drohnendaten\\15_FESMART\\01_Daten\\09_Koenigstein\\01_Befliegungen\"\n",
    "dest   = r\"D:\\Drohnendaten\\15_FESMART\\01_Daten\\09_Koenigstein\\TEMP\"\n",
    "move_files_like_subfolders(master, dest, ignore_folder_name=\"output_dir\", recursive=False, dry_run=False)"
   ]
  },
  {
   "cell_type": "code",
   "execution_count": null,
   "id": "98801233-9d5a-4e56-b724-47284025ec5d",
   "metadata": {},
   "outputs": [],
   "source": []
  }
 ],
 "metadata": {
  "kernelspec": {
   "display_name": "Python 3 (ipykernel)",
   "language": "python",
   "name": "python3"
  },
  "language_info": {
   "codemirror_mode": {
    "name": "ipython",
    "version": 3
   },
   "file_extension": ".py",
   "mimetype": "text/x-python",
   "name": "python",
   "nbconvert_exporter": "python",
   "pygments_lexer": "ipython3",
   "version": "3.9.22"
  }
 },
 "nbformat": 4,
 "nbformat_minor": 5
}
