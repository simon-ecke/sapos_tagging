{
 "cells": [
  {
   "cell_type": "markdown",
   "id": "e25cf1f2",
   "metadata": {},
   "source": [
    "# For WZE-UAV Folder Structure: \n",
    "# SAPOS query + REDToolBox PPK tagging pipeline\n",
    "This Jupyter notebook is an interactive wrapper around the original **`sapos_query.py`** script.  \n",
    "It lets you generate the SAPOS query string for **DJI Phantom 4 Multispectral** datasets:\n",
    "\n",
    "1. **Point the notebook at your data folder** (the one you would normally pass to the script).\n",
    "2. Run the cell.\n",
    "3. It prints the SAPOS query string **and** writes `@sapos_query.txt` in that same folder.\n",
    "4. Generates a REDToolBox Query for PPK geotagging of P4M imagery\n",
    "5. Copys corrected images to a separate folder\n",
    "\n",
    "> **Tip:** afterwards the uncorrected images can be deleted to save storage!\n",
    "\n",
    "---"
   ]
  },
  {
   "cell_type": "code",
   "execution_count": 10,
   "id": "cec22112",
   "metadata": {},
   "outputs": [],
   "source": [
    "import os\n",
    "import re\n",
    "import time\n",
    "from datetime import datetime, timedelta\n",
    "from math import ceil\n",
    "\n",
    "import pytz\n",
    "#from modules.platform import * #import for platforms such as DJI L2 or Wingtra data\n",
    "#from modules.sapos_query import * #import sapos query\n",
    "from modules.sapos_batch import batch_generate_sapos_queries_v2\n",
    "from modules.rename_rinex_tool import *\n",
    "from modules.wze_uav import extract_fplans, copy_vrs_for_fplans, generate_redtoolbox_batch, copy_ppk_images\n",
    "\n",
    "# exifread is only required if you extend the notebook to read EXIF data\n",
    "# import exifread\n"
   ]
  },
  {
   "cell_type": "markdown",
   "id": "5c61784d-e547-48ba-8306-055a4c62425f",
   "metadata": {},
   "source": [
    "### Generate SAPOS Query"
   ]
  },
  {
   "cell_type": "code",
   "execution_count": 11,
   "id": "b5a6bcc3-267f-413a-a813-50fcd81a212d",
   "metadata": {},
   "outputs": [
    {
     "name": "stdout",
     "output_type": "stream",
     "text": [
      "🛸 Detected DJI Phantom 3 Multispectral dataset (v2)\n",
      "📄 0,0   0,0   0   07.08.2024   08:18:44   31   1   R3   16197\n",
      "✅ SAPOS query written to D:\\Drohnendaten\\10_WZE-UAV\\2024\\TEMP\\20240807\\16197\\@sapos_query.txt\n",
      "✅ 20240807\\16197\n",
      "\n",
      "📝  1 query line(s) saved to D:\\Drohnendaten\\10_WZE-UAV\\2024\\all_sapos_queries_v2.txt\n"
     ]
    }
   ],
   "source": [
    "images_dir = r\"D:\\Drohnendaten\\10_WZE-UAV\\2024\\TEMP\" # path to the wze-uav main folder\n",
    "sapos_out = r\"D:\\Drohnendaten\\10_WZE-UAV\\2024\"\n",
    "\n",
    "batch_generate_sapos_queries_v2(\n",
    "    root_dir   = images_dir,\n",
    "    master_out = sapos_out,  \n",
    "    recurse    = True\n",
    ")"
   ]
  },
  {
   "cell_type": "markdown",
   "id": "c717db38-c8c4-4f81-99f8-35842ea96a34",
   "metadata": {},
   "source": [
    "### Generate REDToolBox Query"
   ]
  },
  {
   "cell_type": "code",
   "execution_count": 12,
   "id": "1cd89161-723f-408b-a5a1-5d7631ab6a6b",
   "metadata": {},
   "outputs": [
    {
     "name": "stdout",
     "output_type": "stream",
     "text": [
      "Found 1 FPLAN entries.\n",
      "Saved list to: D:\\Drohnendaten\\10_WZE-UAV\\2024\\redtoolbox_wze2024_temp.txt\n"
     ]
    }
   ],
   "source": [
    "sapos_fn = r'D:\\Drohnendaten\\10_WZE-UAV\\2024\\all_sapos_queries_v2.txt' # path to generated SAPOS query .txt\n",
    "rtb_fn = r'D:\\Drohnendaten\\10_WZE-UAV\\2024\\redtoolbox_wze2024_temp.txt' # path where the REDToolBox .txt should be saved\n",
    "vrs_dir = r\"D:\\Drohnendaten\\10_WZE-UAV\\2024\\02_SAPOS\" # path where the SAPOS files were saved to\n",
    "\n",
    "extract_fplans(sapos_fn, images_dir, rtb_fn)"
   ]
  },
  {
   "cell_type": "markdown",
   "id": "68b70066-bf50-4cfb-997e-1857a1b949f7",
   "metadata": {},
   "source": [
    "### Copy SAPOS files into FPLAN folders"
   ]
  },
  {
   "cell_type": "code",
   "execution_count": 13,
   "id": "4a1d62f1-fa1c-4c95-bc42-4dc449c4e15f",
   "metadata": {},
   "outputs": [
    {
     "name": "stdout",
     "output_type": "stream",
     "text": [
      "📄 Copied file: D:\\Drohnendaten\\10_WZE-UAV\\2024\\02_SAPOS\\16197_7893220.24o -> D:\\Drohnendaten\\10_WZE-UAV\\2024\\TEMP\\20240807\\16197\\105FPLAN\\16197_7893220.24o\n",
      "📄 Copied file: D:\\Drohnendaten\\10_WZE-UAV\\2024\\02_SAPOS\\16197_Ephm220.24p -> D:\\Drohnendaten\\10_WZE-UAV\\2024\\TEMP\\20240807\\16197\\105FPLAN\\16197_Ephm220.24p\n",
      "📄 Copied file: D:\\Drohnendaten\\10_WZE-UAV\\2024\\02_SAPOS\\16197_Protokoll_7893220_VRS.txt -> D:\\Drohnendaten\\10_WZE-UAV\\2024\\TEMP\\20240807\\16197\\105FPLAN\\16197_Protokoll_7893220_VRS.txt\n"
     ]
    }
   ],
   "source": [
    "copy_vrs_for_fplans(rtb_fn, vrs_dir)"
   ]
  },
  {
   "cell_type": "markdown",
   "id": "fb5e8857-d2f2-41b1-b945-135ecfbe5737",
   "metadata": {},
   "source": [
    "### Generate .batch for REDToolBox batch geotagging"
   ]
  },
  {
   "cell_type": "code",
   "execution_count": 14,
   "id": "1620e259-f9e7-4a5a-964e-cfac346d7c80",
   "metadata": {},
   "outputs": [
    {
     "name": "stdout",
     "output_type": "stream",
     "text": [
      "Starting batch generation\n",
      "Processing D:\\Drohnendaten\\10_WZE-UAV\\2024\\TEMP\\20240807\\16197\\105FPLAN\n",
      "    Found MRK file: 105_Timestamp.MRK\n",
      "    Found OBS file: 105_Rinex.obs\n",
      "    Found O file: 16197_7893220.24o\n",
      "    Found P file: 16197_Ephm220.24p\n",
      "\n",
      "Total time elapsed: 0:00:01.240335\n",
      "Batch file written to: D:\\Ecke_Simon\\Redtoolbox_v4\\batch\\REDToolBox_CMD_Start_batch_ALL_2025-06-11_110131.bat\n"
     ]
    }
   ],
   "source": [
    "batch_dir = r'D:\\Ecke_Simon\\Redtoolbox_v4\\batch'\n",
    "log_dir = r'D:\\Ecke_Simon\\Redtoolbox_v4\\log'\n",
    "generate_redtoolbox_batch(rtb_fn, batch_dir, log_dir, epn_yr='24') #set epn year to the year when the images were collected"
   ]
  },
  {
   "cell_type": "markdown",
   "id": "1d9d24ab-257d-4fd1-924e-7d56c421bd5e",
   "metadata": {},
   "source": [
    "### Now Windows Powershell needs to be used to do the REDToolBox PPK geotagging batch processing"
   ]
  },
  {
   "cell_type": "markdown",
   "id": "a26640df-5bde-4453-bf23-4607544b3dd3",
   "metadata": {},
   "source": [
    "### Afterwards copy PPK images and MEDIA folders to a separate location"
   ]
  },
  {
   "cell_type": "code",
   "execution_count": 16,
   "id": "822b480c-93ec-486d-8100-180a924f7a44",
   "metadata": {},
   "outputs": [
    {
     "name": "stdout",
     "output_type": "stream",
     "text": [
      "Copied: D:\\Drohnendaten\\10_WZE-UAV\\2024\\TEMP\\20240807\\16197\\104MEDIA2 -> D:\\Drohnendaten\\10_WZE-UAV\\2024\\PPK_TEMP\\20240807\\16197\\104MEDIA2\n",
      "Copied: D:\\Drohnendaten\\10_WZE-UAV\\2024\\TEMP\\20240807\\16197\\106MEDIA -> D:\\Drohnendaten\\10_WZE-UAV\\2024\\PPK_TEMP\\20240807\\16197\\106MEDIA\n",
      "Copied: D:\\Drohnendaten\\10_WZE-UAV\\2024\\TEMP\\20240807\\16197\\105FPLAN\\out\\EXIF_images -> D:\\Drohnendaten\\10_WZE-UAV\\2024\\PPK_TEMP\\20240807\\16197\\105FPLAN\\out\\EXIF_images\n"
     ]
    }
   ],
   "source": [
    "src = r'D:\\Drohnendaten\\10_WZE-UAV\\2024\\TEMP'\n",
    "dst = r'D:\\Drohnendaten\\10_WZE-UAV\\2024\\PPK_TEMP'\n",
    "copy_ppk_images(src, dst)"
   ]
  },
  {
   "cell_type": "code",
   "execution_count": null,
   "id": "fb8ddd84-a607-4e52-b473-10446c21939e",
   "metadata": {},
   "outputs": [],
   "source": []
  }
 ],
 "metadata": {
  "kernelspec": {
   "display_name": "Python 3 (ipykernel)",
   "language": "python",
   "name": "python3"
  },
  "language_info": {
   "codemirror_mode": {
    "name": "ipython",
    "version": 3
   },
   "file_extension": ".py",
   "mimetype": "text/x-python",
   "name": "python",
   "nbconvert_exporter": "python",
   "pygments_lexer": "ipython3",
   "version": "3.9.22"
  }
 },
 "nbformat": 4,
 "nbformat_minor": 5
}
