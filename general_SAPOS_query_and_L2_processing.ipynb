{
 "cells": [
  {
   "cell_type": "markdown",
   "id": "e25cf1f2",
   "metadata": {},
   "source": [
    "# SAPOS Query Generator + DJI L2 Data management 📡\n",
    "\n",
    "This Jupyter notebook is an interactive wrapper around the original **`sapos_query.py`** script.  \n",
    "It lets you generate the SAPOS query string for **Wingtra** and **DJI Zenmuse L2** datasets *without* using the command line:\n",
    "\n",
    "1. **Point the notebook at your data folder** (the one you would normally pass to the script).\n",
    "2. Run the cell – the notebook detects whether it’s Wingtra or L2 data.\n",
    "3. It prints the SAPOS query string **and** writes `@sapos_query.txt` in that same folder.\n",
    "\n",
    "> **Tip:** You can keep the notebook open and change the `data_dir` variable for each flight you process.\n",
    "\n",
    "---"
   ]
  },
  {
   "cell_type": "code",
   "execution_count": 1,
   "id": "cec22112",
   "metadata": {},
   "outputs": [],
   "source": [
    "import os\n",
    "import re\n",
    "import time\n",
    "from datetime import datetime, timedelta\n",
    "from math import ceil\n",
    "\n",
    "import pytz\n",
    "from modules.platform import * #import for platforms such as DJI L2 or Wingtra data\n",
    "from modules.sapos_query import * #import sapos query\n",
    "from modules.sapos_batch import *\n",
    "from modules.rename_rinex_tool import *\n",
    "from modules.move_files import *\n",
    "from modules.move_files_las import *\n",
    "\n",
    "# exifread is only required if you extend the notebook to read EXIF data\n",
    "# import exifread\n"
   ]
  },
  {
   "cell_type": "markdown",
   "id": "f4eeaea2-a6ca-4a65-90c9-e23e08c8de66",
   "metadata": {},
   "source": [
    "### SAPOS query generation (IF DJI is in the image and mrk names!!! Otherwise use batch_generate_sapos_queries_v2)"
   ]
  },
  {
   "cell_type": "code",
   "execution_count": 2,
   "id": "c2095bce-fbc5-4471-8834-0b72c0dd446b",
   "metadata": {},
   "outputs": [
    {
     "name": "stdout",
     "output_type": "stream",
     "text": [
      "🛸 Detected DJI Mavic 3 Enterprise dataset\n",
      "📄 49,594553305000005   11,6653131   649   12.08.2025   07:32:42   24   1   R3   Koenigstein-5\n",
      "✅ SAPOS query written to D:\\Drohnendaten\\15_FESMART\\01_Daten\\09_Koenigstein\\DJI_202508120943_044_Koenigstein-5\\@sapos_query.txt\n",
      "✅ DJI_202508120943_044_Koenigstein-5\n",
      "🛸 Detected DJI Mavic 3 Enterprise dataset\n",
      "📄 49,594121560000005   11,657591935   700   12.08.2025   07:32:42   27   1   R3   Koenigstein-8\n",
      "✅ SAPOS query written to D:\\Drohnendaten\\15_FESMART\\01_Daten\\09_Koenigstein\\DJI_202508120943_045_Koenigstein-8\\@sapos_query.txt\n",
      "✅ DJI_202508120943_045_Koenigstein-8\n",
      "🛸 Detected DJI Mavic 3 Enterprise dataset\n",
      "📄 49,5897471   11,66184226   652   12.08.2025   07:32:42   33   1   R3   Koenigstein-21\n",
      "✅ SAPOS query written to D:\\Drohnendaten\\15_FESMART\\01_Daten\\09_Koenigstein\\DJI_202508120943_046_Koenigstein-21\\@sapos_query.txt\n",
      "✅ DJI_202508120943_046_Koenigstein-21\n",
      "🛸 Detected DJI Mavic 3 Enterprise dataset\n",
      "📄 49,598688695   11,646419985   728   12.08.2025   07:54:42   22   1   R3   Koenigstein-14\n",
      "✅ SAPOS query written to D:\\Drohnendaten\\15_FESMART\\01_Daten\\09_Koenigstein\\DJI_202508121005_048_Koenigstein-14\\@sapos_query.txt\n",
      "✅ DJI_202508121005_048_Koenigstein-14\n",
      "🛸 Detected DJI Mavic 3 Enterprise dataset\n",
      "📄 49,60161377   11,642559605   676   12.08.2025   07:54:42   24   1   R3   Koenigstein-18\n",
      "✅ SAPOS query written to D:\\Drohnendaten\\15_FESMART\\01_Daten\\09_Koenigstein\\DJI_202508121005_049_Koenigstein-18\\@sapos_query.txt\n",
      "✅ DJI_202508121005_049_Koenigstein-18\n",
      "🛸 Detected DJI Mavic 3 Enterprise dataset\n",
      "📄 49,6016156   11,642560315   675   12.08.2025   07:54:42   26   1   R3   Koenigstein-18\n",
      "✅ SAPOS query written to D:\\Drohnendaten\\15_FESMART\\01_Daten\\09_Koenigstein\\DJI_202508121005_050_Koenigstein-18\\@sapos_query.txt\n",
      "✅ DJI_202508121005_050_Koenigstein-18\n",
      "🛸 Detected DJI Mavic 3 Enterprise dataset\n",
      "📄 49,59916514   11,65009641   730   12.08.2025   07:54:42   30   1   R3   Koenigstein-13\n",
      "✅ SAPOS query written to D:\\Drohnendaten\\15_FESMART\\01_Daten\\09_Koenigstein\\DJI_202508121005_051_Koenigstein-13\\@sapos_query.txt\n",
      "✅ DJI_202508121005_051_Koenigstein-13\n",
      "🛸 Detected DJI Mavic 3 Enterprise dataset\n",
      "📄 49,605638705000004   11,64067894   702   12.08.2025   08:15:42   26   1   R3   Koenigstein-2-6-23\n",
      "✅ SAPOS query written to D:\\Drohnendaten\\15_FESMART\\01_Daten\\09_Koenigstein\\DJI_202508121026_052_Koenigstein-2-6-23\\@sapos_query.txt\n",
      "✅ DJI_202508121026_052_Koenigstein-2-6-23\n",
      "🛸 Detected DJI Mavic 3 Enterprise dataset\n",
      "📄 49,60889028   11,64248712   635   12.08.2025   08:15:42   29   1   R3   Koenigstein-4\n",
      "✅ SAPOS query written to D:\\Drohnendaten\\15_FESMART\\01_Daten\\09_Koenigstein\\DJI_202508121026_053_Koenigstein-4\\@sapos_query.txt\n",
      "✅ DJI_202508121026_053_Koenigstein-4\n",
      "🛸 Detected DJI Mavic 3 Enterprise dataset\n",
      "📄 49,61595005   11,627626809999999   704   12.08.2025   08:32:42   23   1   R3   Koenigstein-17\n",
      "✅ SAPOS query written to D:\\Drohnendaten\\15_FESMART\\01_Daten\\09_Koenigstein\\DJI_202508121043_054_Koenigstein-17\\@sapos_query.txt\n",
      "✅ DJI_202508121043_054_Koenigstein-17\n",
      "🛸 Detected DJI Mavic 3 Enterprise dataset\n",
      "📄 49,608713505   11,609793235000001   654   12.08.2025   08:38:42   33   1   R3   Koenigstein-1-3\n",
      "✅ SAPOS query written to D:\\Drohnendaten\\15_FESMART\\01_Daten\\09_Koenigstein\\DJI_202508121049_055_Koenigstein-1-3\\@sapos_query.txt\n",
      "✅ DJI_202508121049_055_Koenigstein-1-3\n",
      "🛸 Detected DJI Mavic 3 Enterprise dataset\n",
      "📄 49,612388304999996   11,611599125   673   12.08.2025   08:38:42   37   1   R3   Koenigstein-16-24\n",
      "✅ SAPOS query written to D:\\Drohnendaten\\15_FESMART\\01_Daten\\09_Koenigstein\\DJI_202508121049_056_Koenigstein-16-24\\@sapos_query.txt\n",
      "✅ DJI_202508121049_056_Koenigstein-16-24\n",
      "🛸 Detected DJI Mavic 3 Enterprise dataset\n",
      "📄 49,601535685   11,618030185   734   12.08.2025   09:03:42   25   1   R3   Koenigstein-15\n",
      "✅ SAPOS query written to D:\\Drohnendaten\\15_FESMART\\01_Daten\\09_Koenigstein\\DJI_202508121114_057_Koenigstein-15\\@sapos_query.txt\n",
      "✅ DJI_202508121114_057_Koenigstein-15\n",
      "🛸 Detected DJI Mavic 3 Enterprise dataset\n",
      "📄 49,60204082   11,633265699999999   690   12.08.2025   09:19:42   24   1   R3   Koenigstein-12\n",
      "✅ SAPOS query written to D:\\Drohnendaten\\15_FESMART\\01_Daten\\09_Koenigstein\\DJI_202508121130_058_Koenigstein-12\\@sapos_query.txt\n",
      "✅ DJI_202508121130_058_Koenigstein-12\n",
      "🛸 Detected DJI Mavic 3 Enterprise dataset\n",
      "📄 49,597636855   11,62841188   740   12.08.2025   09:19:42   27   1   R3   Koenigstein-9\n",
      "✅ SAPOS query written to D:\\Drohnendaten\\15_FESMART\\01_Daten\\09_Koenigstein\\DJI_202508121130_059_Koenigstein-9\\@sapos_query.txt\n",
      "✅ DJI_202508121130_059_Koenigstein-9\n",
      "🛸 Detected DJI Mavic 3 Enterprise dataset\n",
      "📄 49,59689118   11,63440734   695   12.08.2025   09:19:42   30   1   R3   Koenigstein-10\n",
      "✅ SAPOS query written to D:\\Drohnendaten\\15_FESMART\\01_Daten\\09_Koenigstein\\DJI_202508121130_060_Koenigstein-10\\@sapos_query.txt\n",
      "✅ DJI_202508121130_060_Koenigstein-10\n",
      "\n",
      "📝  16 query line(s) saved to D:\\Drohnendaten\\15_FESMART\\01_Daten\\all_sapos_queries.txt\n"
     ]
    }
   ],
   "source": [
    "batch_generate_sapos_queries(\n",
    "    root_dir   = r\"D:\\Drohnendaten\\15_FESMART\\01_Daten\\09_Koenigstein\",\n",
    "    master_out = r\"D:\\Drohnendaten\\15_FESMART\\01_Daten\",  \n",
    "    recurse    = True\n",
    ")"
   ]
  },
  {
   "cell_type": "markdown",
   "id": "25dae32d-b9fd-4455-ae66-80b71a17059e",
   "metadata": {},
   "source": [
    "### Move SAPOS files into matching folders"
   ]
  },
  {
   "cell_type": "code",
   "execution_count": 6,
   "id": "89d81458-39cb-49ed-9c76-51972570c3c1",
   "metadata": {},
   "outputs": [
    {
     "name": "stdout",
     "output_type": "stream",
     "text": [
      "Found 36 file(s) that are placed into matching folders.\n",
      "\n",
      "DRY-RUN move        : 43Hirschwald80H80O_0773239.25o -> D:\\Drohnendaten\\15_FESMART\\01_Daten\\01_RAW_Daten_Stadtwald_Amberg\\01_L2_Data_Matrice350\\02_Hirschwald_3\\DJI_202508270947_43Hirschwald80H80O\\43Hirschwald80H80O_0773239.25o\n",
      "DRY-RUN move        : 43Hirschwald80H80O_Ephm239.25p -> D:\\Drohnendaten\\15_FESMART\\01_Daten\\01_RAW_Daten_Stadtwald_Amberg\\01_L2_Data_Matrice350\\02_Hirschwald_3\\DJI_202508270947_43Hirschwald80H80O\\43Hirschwald80H80O_Ephm239.25p\n",
      "DRY-RUN move        : 43Hirschwald80H80O_Protokoll_0773239_VRS.txt -> D:\\Drohnendaten\\15_FESMART\\01_Daten\\01_RAW_Daten_Stadtwald_Amberg\\01_L2_Data_Matrice350\\02_Hirschwald_3\\DJI_202508270947_43Hirschwald80H80O\\43Hirschwald80H80O_Protokoll_0773239_VRS.txt\n",
      "DRY-RUN move        : 44Hirschwald80H80O_0774239.25o -> D:\\Drohnendaten\\15_FESMART\\01_Daten\\01_RAW_Daten_Stadtwald_Amberg\\01_L2_Data_Matrice350\\02_Hirschwald_3\\DJI_202508271043_44Hirschwald80H80O\\44Hirschwald80H80O_0774239.25o\n",
      "DRY-RUN move        : 44Hirschwald80H80O_Ephm239.25p -> D:\\Drohnendaten\\15_FESMART\\01_Daten\\01_RAW_Daten_Stadtwald_Amberg\\01_L2_Data_Matrice350\\02_Hirschwald_3\\DJI_202508271043_44Hirschwald80H80O\\44Hirschwald80H80O_Ephm239.25p\n",
      "DRY-RUN move        : 44Hirschwald80H80O_Protokoll_0774239_VRS.txt -> D:\\Drohnendaten\\15_FESMART\\01_Daten\\01_RAW_Daten_Stadtwald_Amberg\\01_L2_Data_Matrice350\\02_Hirschwald_3\\DJI_202508271043_44Hirschwald80H80O\\44Hirschwald80H80O_Protokoll_0774239_VRS.txt\n",
      "DRY-RUN move        : 45Hirschwald80H80O_0775239.25o -> D:\\Drohnendaten\\15_FESMART\\01_Daten\\01_RAW_Daten_Stadtwald_Amberg\\01_L2_Data_Matrice350\\02_Hirschwald_3\\DJI_202508271145_45Hirschwald80H80O\\45Hirschwald80H80O_0775239.25o\n",
      "DRY-RUN move        : 45Hirschwald80H80O_Ephm239.25p -> D:\\Drohnendaten\\15_FESMART\\01_Daten\\01_RAW_Daten_Stadtwald_Amberg\\01_L2_Data_Matrice350\\02_Hirschwald_3\\DJI_202508271145_45Hirschwald80H80O\\45Hirschwald80H80O_Ephm239.25p\n",
      "DRY-RUN move        : 45Hirschwald80H80O_Protokoll_0775239_VRS.txt -> D:\\Drohnendaten\\15_FESMART\\01_Daten\\01_RAW_Daten_Stadtwald_Amberg\\01_L2_Data_Matrice350\\02_Hirschwald_3\\DJI_202508271145_45Hirschwald80H80O\\45Hirschwald80H80O_Protokoll_0775239_VRS.txt\n",
      "DRY-RUN move        : 46Hirschwald80H80O_0776239.25o -> D:\\Drohnendaten\\15_FESMART\\01_Daten\\01_RAW_Daten_Stadtwald_Amberg\\01_L2_Data_Matrice350\\02_Hirschwald_3\\DJI_202508271247_46Hirschwald80H80O\\46Hirschwald80H80O_0776239.25o\n",
      "DRY-RUN move        : 46Hirschwald80H80O_Ephm239.25p -> D:\\Drohnendaten\\15_FESMART\\01_Daten\\01_RAW_Daten_Stadtwald_Amberg\\01_L2_Data_Matrice350\\02_Hirschwald_3\\DJI_202508271247_46Hirschwald80H80O\\46Hirschwald80H80O_Ephm239.25p\n",
      "DRY-RUN move        : 46Hirschwald80H80O_Protokoll_0776239_VRS.txt -> D:\\Drohnendaten\\15_FESMART\\01_Daten\\01_RAW_Daten_Stadtwald_Amberg\\01_L2_Data_Matrice350\\02_Hirschwald_3\\DJI_202508271247_46Hirschwald80H80O\\46Hirschwald80H80O_Protokoll_0776239_VRS.txt\n",
      "DRY-RUN move        : 47Hirschwald80H80O_0777239.25o -> D:\\Drohnendaten\\15_FESMART\\01_Daten\\01_RAW_Daten_Stadtwald_Amberg\\01_L2_Data_Matrice350\\02_Hirschwald_3\\DJI_202508271404_47Hirschwald80H80O\\47Hirschwald80H80O_0777239.25o\n",
      "DRY-RUN move        : 47Hirschwald80H80O_Ephm239.25p -> D:\\Drohnendaten\\15_FESMART\\01_Daten\\01_RAW_Daten_Stadtwald_Amberg\\01_L2_Data_Matrice350\\02_Hirschwald_3\\DJI_202508271404_47Hirschwald80H80O\\47Hirschwald80H80O_Ephm239.25p\n",
      "DRY-RUN move        : 47Hirschwald80H80O_Protokoll_0777239_VRS.txt -> D:\\Drohnendaten\\15_FESMART\\01_Daten\\01_RAW_Daten_Stadtwald_Amberg\\01_L2_Data_Matrice350\\02_Hirschwald_3\\DJI_202508271404_47Hirschwald80H80O\\47Hirschwald80H80O_Protokoll_0777239_VRS.txt\n",
      "DRY-RUN move        : 48Hirschwald80H80O_0779239.25o -> D:\\Drohnendaten\\15_FESMART\\01_Daten\\01_RAW_Daten_Stadtwald_Amberg\\01_L2_Data_Matrice350\\02_Hirschwald_3\\DJI_202508271605_48Hirschwald80H80O\\48Hirschwald80H80O_0779239.25o\n",
      "DRY-RUN move        : 48Hirschwald80H80O_Ephm239.25p -> D:\\Drohnendaten\\15_FESMART\\01_Daten\\01_RAW_Daten_Stadtwald_Amberg\\01_L2_Data_Matrice350\\02_Hirschwald_3\\DJI_202508271605_48Hirschwald80H80O\\48Hirschwald80H80O_Ephm239.25p\n",
      "DRY-RUN move        : 48Hirschwald80H80O_Protokoll_0779239_VRS.txt -> D:\\Drohnendaten\\15_FESMART\\01_Daten\\01_RAW_Daten_Stadtwald_Amberg\\01_L2_Data_Matrice350\\02_Hirschwald_3\\DJI_202508271605_48Hirschwald80H80O\\48Hirschwald80H80O_Protokoll_0779239_VRS.txt\n",
      "DRY-RUN move        : 49Hirschwald80H80O_0778239.25o -> D:\\Drohnendaten\\15_FESMART\\01_Daten\\01_RAW_Daten_Stadtwald_Amberg\\01_L2_Data_Matrice350\\02_Hirschwald_3\\DJI_202508271605_49Hirschwald80H80O\\49Hirschwald80H80O_0778239.25o\n",
      "DRY-RUN move        : 49Hirschwald80H80O_Ephm239.25p -> D:\\Drohnendaten\\15_FESMART\\01_Daten\\01_RAW_Daten_Stadtwald_Amberg\\01_L2_Data_Matrice350\\02_Hirschwald_3\\DJI_202508271605_49Hirschwald80H80O\\49Hirschwald80H80O_Ephm239.25p\n",
      "DRY-RUN move        : 49Hirschwald80H80O_Protokoll_0778239_VRS.txt -> D:\\Drohnendaten\\15_FESMART\\01_Daten\\01_RAW_Daten_Stadtwald_Amberg\\01_L2_Data_Matrice350\\02_Hirschwald_3\\DJI_202508271605_49Hirschwald80H80O\\49Hirschwald80H80O_Protokoll_0778239_VRS.txt\n",
      "DRY-RUN move        : 50Hirschwald80H80O_0781239.25o -> D:\\Drohnendaten\\15_FESMART\\01_Daten\\01_RAW_Daten_Stadtwald_Amberg\\01_L2_Data_Matrice350\\02_Hirschwald_3\\DJI_202508271643_50Hirschwald80H80O\\50Hirschwald80H80O_0781239.25o\n",
      "DRY-RUN move        : 50Hirschwald80H80O_Ephm239.25p -> D:\\Drohnendaten\\15_FESMART\\01_Daten\\01_RAW_Daten_Stadtwald_Amberg\\01_L2_Data_Matrice350\\02_Hirschwald_3\\DJI_202508271643_50Hirschwald80H80O\\50Hirschwald80H80O_Ephm239.25p\n",
      "DRY-RUN move        : 50Hirschwald80H80O_Protokoll_0781239_VRS.txt -> D:\\Drohnendaten\\15_FESMART\\01_Daten\\01_RAW_Daten_Stadtwald_Amberg\\01_L2_Data_Matrice350\\02_Hirschwald_3\\DJI_202508271643_50Hirschwald80H80O\\50Hirschwald80H80O_Protokoll_0781239_VRS.txt\n",
      "DRY-RUN move        : 51Hirschwald80H80O_0780239.25o -> D:\\Drohnendaten\\15_FESMART\\01_Daten\\01_RAW_Daten_Stadtwald_Amberg\\01_L2_Data_Matrice350\\02_Hirschwald_3\\DJI_202508271643_51Hirschwald80H80O\\51Hirschwald80H80O_0780239.25o\n",
      "DRY-RUN move        : 51Hirschwald80H80O_Ephm239.25p -> D:\\Drohnendaten\\15_FESMART\\01_Daten\\01_RAW_Daten_Stadtwald_Amberg\\01_L2_Data_Matrice350\\02_Hirschwald_3\\DJI_202508271643_51Hirschwald80H80O\\51Hirschwald80H80O_Ephm239.25p\n",
      "DRY-RUN move        : 51Hirschwald80H80O_Protokoll_0780239_VRS.txt -> D:\\Drohnendaten\\15_FESMART\\01_Daten\\01_RAW_Daten_Stadtwald_Amberg\\01_L2_Data_Matrice350\\02_Hirschwald_3\\DJI_202508271643_51Hirschwald80H80O\\51Hirschwald80H80O_Protokoll_0780239_VRS.txt\n",
      "DRY-RUN move        : 52Hirschwald80H80O_0782239.25o -> D:\\Drohnendaten\\15_FESMART\\01_Daten\\01_RAW_Daten_Stadtwald_Amberg\\01_L2_Data_Matrice350\\02_Hirschwald_3\\DJI_202508271730_52Hirschwald80H80O\\52Hirschwald80H80O_0782239.25o\n",
      "DRY-RUN move        : 52Hirschwald80H80O_Ephm239.25p -> D:\\Drohnendaten\\15_FESMART\\01_Daten\\01_RAW_Daten_Stadtwald_Amberg\\01_L2_Data_Matrice350\\02_Hirschwald_3\\DJI_202508271730_52Hirschwald80H80O\\52Hirschwald80H80O_Ephm239.25p\n",
      "DRY-RUN move        : 52Hirschwald80H80O_Protokoll_0782239_VRS.txt -> D:\\Drohnendaten\\15_FESMART\\01_Daten\\01_RAW_Daten_Stadtwald_Amberg\\01_L2_Data_Matrice350\\02_Hirschwald_3\\DJI_202508271730_52Hirschwald80H80O\\52Hirschwald80H80O_Protokoll_0782239_VRS.txt\n",
      "DRY-RUN move        : 53Hirschwald80H80O_0783239.25o -> D:\\Drohnendaten\\15_FESMART\\01_Daten\\01_RAW_Daten_Stadtwald_Amberg\\01_L2_Data_Matrice350\\02_Hirschwald_3\\DJI_202508271746_53Hirschwald80H80O\\53Hirschwald80H80O_0783239.25o\n",
      "DRY-RUN move        : 53Hirschwald80H80O_Ephm239.25p -> D:\\Drohnendaten\\15_FESMART\\01_Daten\\01_RAW_Daten_Stadtwald_Amberg\\01_L2_Data_Matrice350\\02_Hirschwald_3\\DJI_202508271746_53Hirschwald80H80O\\53Hirschwald80H80O_Ephm239.25p\n",
      "DRY-RUN move        : 53Hirschwald80H80O_Protokoll_0783239_VRS.txt -> D:\\Drohnendaten\\15_FESMART\\01_Daten\\01_RAW_Daten_Stadtwald_Amberg\\01_L2_Data_Matrice350\\02_Hirschwald_3\\DJI_202508271746_53Hirschwald80H80O\\53Hirschwald80H80O_Protokoll_0783239_VRS.txt\n",
      "DRY-RUN move        : 54Hirschwald80H80O_0784239.25o -> D:\\Drohnendaten\\15_FESMART\\01_Daten\\01_RAW_Daten_Stadtwald_Amberg\\01_L2_Data_Matrice350\\02_Hirschwald_3\\DJI_202508271845_54Hirschwald80H80O\\54Hirschwald80H80O_0784239.25o\n",
      "DRY-RUN move        : 54Hirschwald80H80O_Ephm239.25p -> D:\\Drohnendaten\\15_FESMART\\01_Daten\\01_RAW_Daten_Stadtwald_Amberg\\01_L2_Data_Matrice350\\02_Hirschwald_3\\DJI_202508271845_54Hirschwald80H80O\\54Hirschwald80H80O_Ephm239.25p\n",
      "DRY-RUN move        : 54Hirschwald80H80O_Protokoll_0784239_VRS.txt -> D:\\Drohnendaten\\15_FESMART\\01_Daten\\01_RAW_Daten_Stadtwald_Amberg\\01_L2_Data_Matrice350\\02_Hirschwald_3\\DJI_202508271845_54Hirschwald80H80O\\54Hirschwald80H80O_Protokoll_0784239_VRS.txt\n",
      "\n",
      " Complete. 36 move(s) performed.\n"
     ]
    }
   ],
   "source": [
    "organize_files(r\"D:\\Drohnendaten\\15_FESMART\\01_Daten\\01_RAW_Daten_Stadtwald_Amberg\\01_L2_Data_Matrice350\\02_Hirschwald_3\", rename_on_conflict=False)"
   ]
  },
  {
   "cell_type": "markdown",
   "id": "8d202fe2-5dd0-46c6-9c4a-5f07f8af197a",
   "metadata": {},
   "source": [
    "### Rename .25o into .obs"
   ]
  },
  {
   "cell_type": "code",
   "execution_count": 5,
   "id": "7a703e1d-9c0a-402a-aaf6-b811d7b4cd8f",
   "metadata": {},
   "outputs": [
    {
     "name": "stdout",
     "output_type": "stream",
     "text": [
      "[skip] D:\\Drohnendaten\\15_FESMART\\01_Daten\\01_RAW_Daten_Stadtwald_Amberg\\01_L2_Data_Matrice350\\02_Hirschwald_3 – need exactly one .RPOS & one .25o\n",
      "[rename] 43Hirschwald80H80O_0773239.25o → DJI_20250827095108_0002_L.25o\n",
      "[mv   ] DJI_20250827095108_0002_L.25o → DJI_20250827095108_0002_L.obs\n",
      "[rename] 44Hirschwald80H80O_0774239.25o → DJI_20250827104529_0002_L.25o\n",
      "[mv   ] DJI_20250827104529_0002_L.25o → DJI_20250827104529_0002_L.obs\n",
      "[rename] 45Hirschwald80H80O_0775239.25o → DJI_20250827114820_0002_L.25o\n",
      "[mv   ] DJI_20250827114820_0002_L.25o → DJI_20250827114820_0002_L.obs\n",
      "[rename] 46Hirschwald80H80O_0776239.25o → DJI_20250827125017_0002_L.25o\n",
      "[mv   ] DJI_20250827125017_0002_L.25o → DJI_20250827125017_0002_L.obs\n",
      "[rename] 47Hirschwald80H80O_0777239.25o → DJI_20250827140703_0002_L.25o\n",
      "[mv   ] DJI_20250827140703_0002_L.25o → DJI_20250827140703_0002_L.obs\n",
      "[rename] 48Hirschwald80H80O_0779239.25o → DJI_20250827161457_0002_L.25o\n",
      "[mv   ] DJI_20250827161457_0002_L.25o → DJI_20250827161457_0002_L.obs\n",
      "[rename] 49Hirschwald80H80O_0778239.25o → DJI_20250827160808_0002_L.25o\n",
      "[mv   ] DJI_20250827160808_0002_L.25o → DJI_20250827160808_0002_L.obs\n",
      "[rename] 50Hirschwald80H80O_0781239.25o → DJI_20250827165437_0002_L.25o\n",
      "[mv   ] DJI_20250827165437_0002_L.25o → DJI_20250827165437_0002_L.obs\n",
      "[rename] 51Hirschwald80H80O_0780239.25o → DJI_20250827164719_0002_L.25o\n",
      "[mv   ] DJI_20250827164719_0002_L.25o → DJI_20250827164719_0002_L.obs\n",
      "[rename] 52Hirschwald80H80O_0782239.25o → DJI_20250827173538_0002_L.25o\n",
      "[mv   ] DJI_20250827173538_0002_L.25o → DJI_20250827173538_0002_L.obs\n",
      "[rename] 53Hirschwald80H80O_0783239.25o → DJI_20250827174845_0002_L.25o\n",
      "[mv   ] DJI_20250827174845_0002_L.25o → DJI_20250827174845_0002_L.obs\n",
      "[rename] 54Hirschwald80H80O_0784239.25o → DJI_20250827184817_0002_L.25o\n",
      "[mv   ] DJI_20250827184817_0002_L.25o → DJI_20250827184817_0002_L.obs\n"
     ]
    }
   ],
   "source": [
    "#IMPORTANT: SAPOS files already downloaded and put into the folders accordingly\n",
    "\n",
    "batch_rename_convert(r\"D:\\Drohnendaten\\15_FESMART\\01_Daten\\01_RAW_Daten_Stadtwald_Amberg\\01_L2_Data_Matrice350\\02_Hirschwald_3\", keep_original=False)\n"
   ]
  },
  {
   "cell_type": "markdown",
   "id": "0f2ba95d-609b-4905-b22b-93390b1f922c",
   "metadata": {},
   "source": [
    "### Move .las files into a defined folder"
   ]
  },
  {
   "cell_type": "code",
   "execution_count": 7,
   "id": "d716378c-9aee-4823-807a-8d76476d21c6",
   "metadata": {},
   "outputs": [
    {
     "name": "stdout",
     "output_type": "stream",
     "text": [
      "Found 15 .las file(s) to place into: D:\\Drohnendaten\\15_FESMART\\01_Daten\\01_RAW_Daten_Stadtwald_Amberg\\01_L2_Data_Matrice350\\02_Hirschwald_3\\las\n",
      "DRY-RUN move: D:\\Drohnendaten\\15_FESMART\\01_Daten\\01_RAW_Daten_Stadtwald_Amberg\\01_L2_Data_Matrice350\\02_Hirschwald_3\\processed\\202508270947_43Hirschwald80H80O\\lidars\\terra_las\\cloud0.las  ->  D:\\Drohnendaten\\15_FESMART\\01_Daten\\01_RAW_Daten_Stadtwald_Amberg\\01_L2_Data_Matrice350\\02_Hirschwald_3\\las\\202508270947_43Hirschwald80H80O.las\n",
      "DRY-RUN move: D:\\Drohnendaten\\15_FESMART\\01_Daten\\01_RAW_Daten_Stadtwald_Amberg\\01_L2_Data_Matrice350\\02_Hirschwald_3\\processed\\202508270947_43Hirschwald80H80O\\lidars\\terra_las\\cloud1.las  ->  D:\\Drohnendaten\\15_FESMART\\01_Daten\\01_RAW_Daten_Stadtwald_Amberg\\01_L2_Data_Matrice350\\02_Hirschwald_3\\las\\202508270947_43Hirschwald80H80O_1.las\n",
      "DRY-RUN move: D:\\Drohnendaten\\15_FESMART\\01_Daten\\01_RAW_Daten_Stadtwald_Amberg\\01_L2_Data_Matrice350\\02_Hirschwald_3\\processed\\202508271043_44Hirschwald80H80O\\lidars\\terra_las\\cloud0.las  ->  D:\\Drohnendaten\\15_FESMART\\01_Daten\\01_RAW_Daten_Stadtwald_Amberg\\01_L2_Data_Matrice350\\02_Hirschwald_3\\las\\202508271043_44Hirschwald80H80O.las\n",
      "DRY-RUN move: D:\\Drohnendaten\\15_FESMART\\01_Daten\\01_RAW_Daten_Stadtwald_Amberg\\01_L2_Data_Matrice350\\02_Hirschwald_3\\processed\\202508271043_44Hirschwald80H80O\\lidars\\terra_las\\cloud1.las  ->  D:\\Drohnendaten\\15_FESMART\\01_Daten\\01_RAW_Daten_Stadtwald_Amberg\\01_L2_Data_Matrice350\\02_Hirschwald_3\\las\\202508271043_44Hirschwald80H80O_1.las\n",
      "DRY-RUN move: D:\\Drohnendaten\\15_FESMART\\01_Daten\\01_RAW_Daten_Stadtwald_Amberg\\01_L2_Data_Matrice350\\02_Hirschwald_3\\processed\\202508271145_45Hirschwald80H80O\\lidars\\terra_las\\cloud0.las  ->  D:\\Drohnendaten\\15_FESMART\\01_Daten\\01_RAW_Daten_Stadtwald_Amberg\\01_L2_Data_Matrice350\\02_Hirschwald_3\\las\\202508271145_45Hirschwald80H80O.las\n",
      "DRY-RUN move: D:\\Drohnendaten\\15_FESMART\\01_Daten\\01_RAW_Daten_Stadtwald_Amberg\\01_L2_Data_Matrice350\\02_Hirschwald_3\\processed\\202508271247_46Hirschwald80H80O\\lidars\\terra_las\\cloud0.las  ->  D:\\Drohnendaten\\15_FESMART\\01_Daten\\01_RAW_Daten_Stadtwald_Amberg\\01_L2_Data_Matrice350\\02_Hirschwald_3\\las\\202508271247_46Hirschwald80H80O.las\n",
      "DRY-RUN move: D:\\Drohnendaten\\15_FESMART\\01_Daten\\01_RAW_Daten_Stadtwald_Amberg\\01_L2_Data_Matrice350\\02_Hirschwald_3\\processed\\202508271404_47Hirschwald80H80O\\lidars\\terra_las\\cloud0.las  ->  D:\\Drohnendaten\\15_FESMART\\01_Daten\\01_RAW_Daten_Stadtwald_Amberg\\01_L2_Data_Matrice350\\02_Hirschwald_3\\las\\202508271404_47Hirschwald80H80O.las\n",
      "DRY-RUN move: D:\\Drohnendaten\\15_FESMART\\01_Daten\\01_RAW_Daten_Stadtwald_Amberg\\01_L2_Data_Matrice350\\02_Hirschwald_3\\processed\\202508271404_47Hirschwald80H80O\\lidars\\terra_las\\cloud1.las  ->  D:\\Drohnendaten\\15_FESMART\\01_Daten\\01_RAW_Daten_Stadtwald_Amberg\\01_L2_Data_Matrice350\\02_Hirschwald_3\\las\\202508271404_47Hirschwald80H80O_1.las\n",
      "DRY-RUN move: D:\\Drohnendaten\\15_FESMART\\01_Daten\\01_RAW_Daten_Stadtwald_Amberg\\01_L2_Data_Matrice350\\02_Hirschwald_3\\processed\\202508271605_48Hirschwald80H80O\\lidars\\terra_las\\cloud0.las  ->  D:\\Drohnendaten\\15_FESMART\\01_Daten\\01_RAW_Daten_Stadtwald_Amberg\\01_L2_Data_Matrice350\\02_Hirschwald_3\\las\\202508271605_48Hirschwald80H80O.las\n",
      "DRY-RUN move: D:\\Drohnendaten\\15_FESMART\\01_Daten\\01_RAW_Daten_Stadtwald_Amberg\\01_L2_Data_Matrice350\\02_Hirschwald_3\\processed\\202508271605_49Hirschwald80H80O\\lidars\\terra_las\\cloud0.las  ->  D:\\Drohnendaten\\15_FESMART\\01_Daten\\01_RAW_Daten_Stadtwald_Amberg\\01_L2_Data_Matrice350\\02_Hirschwald_3\\las\\202508271605_49Hirschwald80H80O.las\n",
      "DRY-RUN move: D:\\Drohnendaten\\15_FESMART\\01_Daten\\01_RAW_Daten_Stadtwald_Amberg\\01_L2_Data_Matrice350\\02_Hirschwald_3\\processed\\202508271643_50Hirschwald80H80O\\lidars\\terra_las\\cloud0.las  ->  D:\\Drohnendaten\\15_FESMART\\01_Daten\\01_RAW_Daten_Stadtwald_Amberg\\01_L2_Data_Matrice350\\02_Hirschwald_3\\las\\202508271643_50Hirschwald80H80O.las\n",
      "DRY-RUN move: D:\\Drohnendaten\\15_FESMART\\01_Daten\\01_RAW_Daten_Stadtwald_Amberg\\01_L2_Data_Matrice350\\02_Hirschwald_3\\processed\\202508271643_51Hirschwald80H80O\\lidars\\terra_las\\cloud0.las  ->  D:\\Drohnendaten\\15_FESMART\\01_Daten\\01_RAW_Daten_Stadtwald_Amberg\\01_L2_Data_Matrice350\\02_Hirschwald_3\\las\\202508271643_51Hirschwald80H80O.las\n",
      "DRY-RUN move: D:\\Drohnendaten\\15_FESMART\\01_Daten\\01_RAW_Daten_Stadtwald_Amberg\\01_L2_Data_Matrice350\\02_Hirschwald_3\\processed\\202508271730_52Hirschwald80H80O\\lidars\\terra_las\\cloud0.las  ->  D:\\Drohnendaten\\15_FESMART\\01_Daten\\01_RAW_Daten_Stadtwald_Amberg\\01_L2_Data_Matrice350\\02_Hirschwald_3\\las\\202508271730_52Hirschwald80H80O.las\n",
      "DRY-RUN move: D:\\Drohnendaten\\15_FESMART\\01_Daten\\01_RAW_Daten_Stadtwald_Amberg\\01_L2_Data_Matrice350\\02_Hirschwald_3\\processed\\202508271746_53Hirschwald80H80O\\lidars\\terra_las\\cloud0.las  ->  D:\\Drohnendaten\\15_FESMART\\01_Daten\\01_RAW_Daten_Stadtwald_Amberg\\01_L2_Data_Matrice350\\02_Hirschwald_3\\las\\202508271746_53Hirschwald80H80O.las\n",
      "DRY-RUN move: D:\\Drohnendaten\\15_FESMART\\01_Daten\\01_RAW_Daten_Stadtwald_Amberg\\01_L2_Data_Matrice350\\02_Hirschwald_3\\processed\\202508271845_54Hirschwald80H80O\\lidars\\terra_las\\cloud0.las  ->  D:\\Drohnendaten\\15_FESMART\\01_Daten\\01_RAW_Daten_Stadtwald_Amberg\\01_L2_Data_Matrice350\\02_Hirschwald_3\\las\\202508271845_54Hirschwald80H80O.las\n",
      "\n",
      "Run complete. 15 move(s) performed.\n"
     ]
    }
   ],
   "source": [
    "master = r\"D:\\Drohnendaten\\15_FESMART\\01_Daten\\01_RAW_Daten_Stadtwald_Amberg\\01_L2_Data_Matrice350\\02_Hirschwald_3\\processed\"\n",
    "las = r\"D:\\Drohnendaten\\15_FESMART\\01_Daten\\01_RAW_Daten_Stadtwald_Amberg\\01_L2_Data_Matrice350\\02_Hirschwald_3\\las\"\n",
    "\n",
    "move_las(master, las, recursive=True)"
   ]
  },
  {
   "cell_type": "code",
   "execution_count": null,
   "id": "a8e8934b-8e6a-4aeb-b392-1b827564afc9",
   "metadata": {},
   "outputs": [],
   "source": []
  }
 ],
 "metadata": {
  "kernelspec": {
   "display_name": "Python 3 (ipykernel)",
   "language": "python",
   "name": "python3"
  },
  "language_info": {
   "codemirror_mode": {
    "name": "ipython",
    "version": 3
   },
   "file_extension": ".py",
   "mimetype": "text/x-python",
   "name": "python",
   "nbconvert_exporter": "python",
   "pygments_lexer": "ipython3",
   "version": "3.9.22"
  }
 },
 "nbformat": 4,
 "nbformat_minor": 5
}
