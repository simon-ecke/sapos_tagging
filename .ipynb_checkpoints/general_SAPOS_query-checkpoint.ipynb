{
 "cells": [
  {
   "cell_type": "markdown",
   "id": "e25cf1f2",
   "metadata": {},
   "source": [
    "# SAPOS Query Generator 📡\n",
    "\n",
    "This Jupyter notebook is an interactive wrapper around the original **`sapos_query.py`** script.  \n",
    "It lets you generate the SAPOS query string for **Wingtra** and **DJI Zenmuse L2** datasets *without* using the command line:\n",
    "\n",
    "1. **Point the notebook at your data folder** (the one you would normally pass to the script).\n",
    "2. Run the cell – the notebook detects whether it’s Wingtra or L2 data.\n",
    "3. It prints the SAPOS query string **and** writes `@sapos_query.txt` in that same folder.\n",
    "\n",
    "> **Tip:** You can keep the notebook open and change the `data_dir` variable for each flight you process.\n",
    "\n",
    "---"
   ]
  },
  {
   "cell_type": "code",
   "execution_count": 4,
   "id": "cec22112",
   "metadata": {},
   "outputs": [],
   "source": [
    "import os\n",
    "import re\n",
    "import time\n",
    "from datetime import datetime, timedelta\n",
    "from math import ceil\n",
    "\n",
    "import pytz\n",
    "from modules.platform import * #import for platforms such as DJI L2 or Wingtra data\n",
    "from modules.sapos_query import * #import sapos query\n",
    "from modules.sapos_batch import *\n",
    "from modules.rename_rinex_tool import *\n",
    "\n",
    "# exifread is only required if you extend the notebook to read EXIF data\n",
    "# import exifread\n"
   ]
  },
  {
   "cell_type": "markdown",
   "id": "f4eeaea2-a6ca-4a65-90c9-e23e08c8de66",
   "metadata": {},
   "source": [
    "### SAPOS query generation"
   ]
  },
  {
   "cell_type": "code",
   "execution_count": 10,
   "id": "c2095bce-fbc5-4471-8834-0b72c0dd446b",
   "metadata": {},
   "outputs": [
    {
     "name": "stdout",
     "output_type": "stream",
     "text": [
      "🛸 Detected DJI Mavic 3 Enterprise dataset\n",
      "📄 49,42924994   11,98592264   575   26.05.2025   06:38:42   35   1   R3   3Amberg\n",
      "✅ SAPOS query written to D:\\Drohnendaten\\15_FESMART\\01_Daten\\01_Stadtwald_Amberg\\02_RGB_Data_Mavic3E\\Amberg_02\\DJI_202505260849_012_3Amberg\\@sapos_query.txt\n",
      "✅ DJI_202505260849_012_3Amberg\n",
      "🛸 Detected DJI Mavic 3 Enterprise dataset\n",
      "📄 49,432197865   11,98907581   585   26.05.2025   07:19:42   31   1   R3   3Amberg\n",
      "✅ SAPOS query written to D:\\Drohnendaten\\15_FESMART\\01_Daten\\01_Stadtwald_Amberg\\02_RGB_Data_Mavic3E\\Amberg_02\\DJI_202505260930_013_3Amberg\\@sapos_query.txt\n",
      "✅ DJI_202505260930_013_3Amberg\n",
      "🛸 Detected DJI Mavic 3 Enterprise dataset\n",
      "📄 49,43409097999999   11,98388968   563   26.05.2025   07:33:42   26   1   R3   3Amberg\n",
      "✅ SAPOS query written to D:\\Drohnendaten\\15_FESMART\\01_Daten\\01_Stadtwald_Amberg\\02_RGB_Data_Mavic3E\\Amberg_02\\DJI_202505260944_014_3Amberg\\@sapos_query.txt\n",
      "✅ DJI_202505260944_014_3Amberg\n",
      "\n",
      "📝  3 query line(s) saved to D:\\Drohnendaten\\15_FESMART\\01_Daten\\01_Stadtwald_Amberg\\03_SAPOS_data\\all_sapos_queries.txt\n"
     ]
    }
   ],
   "source": [
    "batch_generate_sapos_queries(\n",
    "    root_dir   = r\"D:\\Drohnendaten\\15_FESMART\\01_Daten\\01_Stadtwald_Amberg\\02_RGB_Data_Mavic3E\\Amberg_02\",\n",
    "    master_out = r\"D:\\Drohnendaten\\15_FESMART\\01_Daten\\01_Stadtwald_Amberg\\03_SAPOS_data\",  \n",
    "    recurse    = False\n",
    ")"
   ]
  },
  {
   "cell_type": "markdown",
   "id": "8d202fe2-5dd0-46c6-9c4a-5f07f8af197a",
   "metadata": {},
   "source": [
    "### Rename .25o into .obs"
   ]
  },
  {
   "cell_type": "code",
   "execution_count": 7,
   "id": "7a703e1d-9c0a-402a-aaf6-b811d7b4cd8f",
   "metadata": {},
   "outputs": [
    {
     "name": "stdout",
     "output_type": "stream",
     "text": [
      "[skip] D:\\Drohnendaten\\15_FESMART\\01_Daten\\01_Stadtwald_Amberg\\02_RGB_Data_Mavic3E\\Amberg_01 – need exactly one .RPOS & one .25o\n",
      "[skip] D:\\Drohnendaten\\15_FESMART\\01_Daten\\01_Stadtwald_Amberg\\02_RGB_Data_Mavic3E\\Amberg_01\\DJI_202505240829_009_1Amberg – need exactly one .RPOS & one .25o\n",
      "[skip] D:\\Drohnendaten\\15_FESMART\\01_Daten\\01_Stadtwald_Amberg\\02_RGB_Data_Mavic3E\\Amberg_01\\DJI_202505240829_010_2Amberg – need exactly one .RPOS & one .25o\n",
      "[skip] D:\\Drohnendaten\\15_FESMART\\01_Daten\\01_Stadtwald_Amberg\\02_RGB_Data_Mavic3E\\Amberg_01\\DJI_202505240921_011_3Amberg – need exactly one .RPOS & one .25o\n"
     ]
    }
   ],
   "source": [
    "#IMPORTANT: SAPOS files already downloaded and put into the folders accordingly\n",
    "\n",
    "batch_rename_convert(r\"D:\\Drohnendaten\\15_FESMART\\01_Daten\\01_Stadtwald_Amberg\\02_RGB_Data_Mavic3E\\Amberg_01\", keep_original=False)\n"
   ]
  }
 ],
 "metadata": {
  "kernelspec": {
   "display_name": "Python 3 (ipykernel)",
   "language": "python",
   "name": "python3"
  },
  "language_info": {
   "codemirror_mode": {
    "name": "ipython",
    "version": 3
   },
   "file_extension": ".py",
   "mimetype": "text/x-python",
   "name": "python",
   "nbconvert_exporter": "python",
   "pygments_lexer": "ipython3",
   "version": "3.9.22"
  }
 },
 "nbformat": 4,
 "nbformat_minor": 5
}
