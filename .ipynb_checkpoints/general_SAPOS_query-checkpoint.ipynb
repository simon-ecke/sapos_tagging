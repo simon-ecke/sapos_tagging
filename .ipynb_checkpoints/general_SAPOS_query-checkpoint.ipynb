{
 "cells": [
  {
   "cell_type": "markdown",
   "id": "e25cf1f2",
   "metadata": {},
   "source": [
    "# SAPOS Query Generator 📡\n",
    "\n",
    "This Jupyter notebook is an interactive wrapper around the original **`sapos_query.py`** script.  \n",
    "It lets you generate the SAPOS query string for **Wingtra** and **DJI Zenmuse L2** datasets *without* using the command line:\n",
    "\n",
    "1. **Point the notebook at your data folder** (the one you would normally pass to the script).\n",
    "2. Run the cell – the notebook detects whether it’s Wingtra or L2 data.\n",
    "3. It prints the SAPOS query string **and** writes `@sapos_query.txt` in that same folder.\n",
    "\n",
    "> **Tip:** You can keep the notebook open and change the `data_dir` variable for each flight you process.\n",
    "\n",
    "---"
   ]
  },
  {
   "cell_type": "code",
   "execution_count": 1,
   "id": "cec22112",
   "metadata": {},
   "outputs": [],
   "source": [
    "import os\n",
    "import re\n",
    "import time\n",
    "from datetime import datetime, timedelta\n",
    "from math import ceil\n",
    "\n",
    "import pytz\n",
    "from modules.platform import * #import for platforms such as DJI L2 or Wingtra data\n",
    "from modules.sapos_query import * #import sapos query\n",
    "from modules.sapos_batch import *\n",
    "from modules.rename_rinex_tool import *\n",
    "\n",
    "# exifread is only required if you extend the notebook to read EXIF data\n",
    "# import exifread\n"
   ]
  },
  {
   "cell_type": "markdown",
   "id": "41f8e8f3-6aed-40f6-8618-8c5a5ea45665",
   "metadata": {},
   "source": [
    "### Single or batch processing"
   ]
  },
  {
   "cell_type": "code",
   "execution_count": 4,
   "id": "c2095bce-fbc5-4471-8834-0b72c0dd446b",
   "metadata": {},
   "outputs": [
    {
     "name": "stdout",
     "output_type": "stream",
     "text": [
      "🛸 Detected DJI Mavic 3 Enterprise dataset\n",
      "📄 49,422645895   11,974232704999999   591   24.05.2025   06:18:42   35   1   R3   1Amberg\n",
      "✅ SAPOS query written to D:\\Drohnendaten\\15_FESMART\\01_Daten\\01_Stadtwald_Amberg\\02_RGB_Data_Mavic3E\\Amberg_01\\DJI_202505240829_009_1Amberg\\@sapos_query.txt\n",
      "✅ DJI_202505240829_009_1Amberg\n",
      "🛸 Detected DJI Mavic 3 Enterprise dataset\n",
      "📄 49,42403341   11,97323935   575   24.05.2025   06:18:42   39   1   R3   1Amberg\n",
      "✅ SAPOS query written to D:\\Drohnendaten\\15_FESMART\\01_Daten\\01_Stadtwald_Amberg\\02_RGB_Data_Mavic3E\\Amberg_01\\DJI_202505240829_010_1Amberg\\@sapos_query.txt\n",
      "✅ DJI_202505240829_010_1Amberg\n",
      "🛸 Detected DJI Mavic 3 Enterprise dataset\n",
      "📄 49,427073325   11,967957685   582   24.05.2025   07:10:42   36   1   R3   1Amberg\n",
      "✅ SAPOS query written to D:\\Drohnendaten\\15_FESMART\\01_Daten\\01_Stadtwald_Amberg\\02_RGB_Data_Mavic3E\\Amberg_01\\DJI_202505240921_011_1Amberg\\@sapos_query.txt\n",
      "✅ DJI_202505240921_011_1Amberg\n",
      "\n",
      "📝  3 query line(s) saved to D:\\Drohnendaten\\15_FESMART\\01_Daten\\01_Stadtwald_Amberg\\03_SAPOS_data\\all_sapos_queries.txt\n"
     ]
    }
   ],
   "source": [
    "batch_generate_sapos_queries(\n",
    "    root_dir   = r\"D:\\Drohnendaten\\15_FESMART\\01_Daten\\01_Stadtwald_Amberg\\02_RGB_Data_Mavic3E\\Amberg_01\",\n",
    "    master_out = r\"D:\\Drohnendaten\\15_FESMART\\01_Daten\\01_Stadtwald_Amberg\\03_SAPOS_data\",  \n",
    "    recurse    = False\n",
    ")"
   ]
  },
  {
   "cell_type": "markdown",
   "id": "8d202fe2-5dd0-46c6-9c4a-5f07f8af197a",
   "metadata": {},
   "source": [
    "### Rename .25o into .obs"
   ]
  },
  {
   "cell_type": "code",
   "execution_count": null,
   "id": "7a703e1d-9c0a-402a-aaf6-b811d7b4cd8f",
   "metadata": {},
   "outputs": [],
   "source": [
    "#IMPORTANT: SAPOS files already downloaded and put into the folders accordingly\n",
    "\n",
    "# One-liner, keep the *.25o copy\n",
    "rinex_tools.batch_rename_convert(\"D:\\Drohnendaten\\15_FESMART\\01_Daten\\01_Stadtwald_Amberg\\01_L2_Data_Matrice350\\01_Hiltersdorf\\TEMP\")\n",
    "\n",
    "# …or, if you’d rather the *.25o disappear:\n",
    "rinex_tools.batch_rename_convert(\"D:\\Drohnendaten\\15_FESMART\\01_Daten\\01_Stadtwald_Amberg\\01_L2_Data_Matrice350\\01_Hiltersdorf\\TEMP\", keep_original=False)\n"
   ]
  }
 ],
 "metadata": {
  "kernelspec": {
   "display_name": "Python 3 (ipykernel)",
   "language": "python",
   "name": "python3"
  },
  "language_info": {
   "codemirror_mode": {
    "name": "ipython",
    "version": 3
   },
   "file_extension": ".py",
   "mimetype": "text/x-python",
   "name": "python",
   "nbconvert_exporter": "python",
   "pygments_lexer": "ipython3",
   "version": "3.9.22"
  }
 },
 "nbformat": 4,
 "nbformat_minor": 5
}
