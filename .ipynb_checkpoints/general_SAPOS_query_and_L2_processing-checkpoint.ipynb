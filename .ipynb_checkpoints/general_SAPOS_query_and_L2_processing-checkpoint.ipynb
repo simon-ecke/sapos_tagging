{
 "cells": [
  {
   "cell_type": "markdown",
   "id": "e25cf1f2",
   "metadata": {},
   "source": [
    "# SAPOS Query Generator 📡\n",
    "\n",
    "This Jupyter notebook is an interactive wrapper around the original **`sapos_query.py`** script.  \n",
    "It lets you generate the SAPOS query string for **Wingtra** and **DJI Zenmuse L2** datasets *without* using the command line:\n",
    "\n",
    "1. **Point the notebook at your data folder** (the one you would normally pass to the script).\n",
    "2. Run the cell – the notebook detects whether it’s Wingtra or L2 data.\n",
    "3. It prints the SAPOS query string **and** writes `@sapos_query.txt` in that same folder.\n",
    "\n",
    "> **Tip:** You can keep the notebook open and change the `data_dir` variable for each flight you process.\n",
    "\n",
    "---"
   ]
  },
  {
   "cell_type": "code",
   "execution_count": 3,
   "id": "cec22112",
   "metadata": {},
   "outputs": [],
   "source": [
    "import os\n",
    "import re\n",
    "import time\n",
    "from datetime import datetime, timedelta\n",
    "from math import ceil\n",
    "\n",
    "import pytz\n",
    "from modules.platform import * #import for platforms such as DJI L2 or Wingtra data\n",
    "from modules.sapos_query import * #import sapos query\n",
    "from modules.sapos_batch import *\n",
    "from modules.rename_rinex_tool import *\n",
    "from modules.move_files import *\n",
    "from modules.move_files_las import *\n",
    "\n",
    "# exifread is only required if you extend the notebook to read EXIF data\n",
    "# import exifread\n"
   ]
  },
  {
   "cell_type": "markdown",
   "id": "f4eeaea2-a6ca-4a65-90c9-e23e08c8de66",
   "metadata": {},
   "source": [
    "### SAPOS query generation (IF DJI is in the image and mrk names!!! Otherwise use batch_generate_sapos_queries_v2)"
   ]
  },
  {
   "cell_type": "code",
   "execution_count": 9,
   "id": "c2095bce-fbc5-4471-8834-0b72c0dd446b",
   "metadata": {},
   "outputs": [
    {
     "name": "stdout",
     "output_type": "stream",
     "text": [
      "🛸 Detected DJI Mavic 3 Enterprise dataset\n",
      "📄 49,5537735   11,521745785   591   11.08.2025   12:33:42   24   1   R3   Hirschbach-12-17\n",
      "✅ SAPOS query written to D:\\Drohnendaten\\15_FESMART\\01_Daten\\08_Hirschbach\\DJI_202508111444_031_Hirschbach-12-17\\@sapos_query.txt\n",
      "✅ DJI_202508111444_031_Hirschbach-12-17\n",
      "🛸 Detected DJI Mavic 3 Enterprise dataset\n",
      "📄 49,55558174   11,532344420000001   551   11.08.2025   12:48:42   22   1   R3   Hirschbach-7\n",
      "✅ SAPOS query written to D:\\Drohnendaten\\15_FESMART\\01_Daten\\08_Hirschbach\\DJI_202508111459_032_Hirschbach-7\\@sapos_query.txt\n",
      "✅ DJI_202508111459_032_Hirschbach-7\n",
      "🛸 Detected DJI Mavic 3 Enterprise dataset\n",
      "📄 49,556152909999994   11,53043088   558   11.08.2025   12:48:42   23   1   R3   Hirschbach-8\n",
      "✅ SAPOS query written to D:\\Drohnendaten\\15_FESMART\\01_Daten\\08_Hirschbach\\DJI_202508111459_033_Hirschbach-8\\@sapos_query.txt\n",
      "✅ DJI_202508111459_033_Hirschbach-8\n",
      "❌ skipping DJI_202508111459_034: No Wingtra JSON or DJI MRK found in folder\n",
      "🛸 Detected DJI Mavic 3 Enterprise dataset\n",
      "📄 49,55459915   11,54112451   571   11.08.2025   13:02:42   22   1   R3   Hirschbach-9\n",
      "✅ SAPOS query written to D:\\Drohnendaten\\15_FESMART\\01_Daten\\08_Hirschbach\\DJI_202508111513_035_Hirschbach-9\\@sapos_query.txt\n",
      "✅ DJI_202508111513_035_Hirschbach-9\n",
      "🛸 Detected DJI Mavic 3 Enterprise dataset\n",
      "📄 49,5667707   11,556667255   561   11.08.2025   13:15:42   30   1   R3   Hirschbach-5-19\n",
      "✅ SAPOS query written to D:\\Drohnendaten\\15_FESMART\\01_Daten\\08_Hirschbach\\DJI_202508111526_036_Hirschbach-5-19\\@sapos_query.txt\n",
      "✅ DJI_202508111526_036_Hirschbach-5-19\n",
      "🛸 Detected DJI Mavic 3 Enterprise dataset\n",
      "📄 49,573907434999995   11,567462814999999   662   11.08.2025   13:35:42   29   1   R3   Hirschbach-14\n",
      "✅ SAPOS query written to D:\\Drohnendaten\\15_FESMART\\01_Daten\\08_Hirschbach\\DJI_202508111546_037_Hirschbach-14\\@sapos_query.txt\n",
      "✅ DJI_202508111546_037_Hirschbach-14\n",
      "🛸 Detected DJI Mavic 3 Enterprise dataset\n",
      "📄 49,571577515   11,56608564   674   11.08.2025   13:35:42   30   1   R3   Timestamp.MRK\n",
      "✅ SAPOS query written to D:\\Drohnendaten\\15_FESMART\\01_Daten\\08_Hirschbach\\DJI_202508111546_038\\@sapos_query.txt\n",
      "✅ DJI_202508111546_038\n",
      "🛸 Detected DJI Mavic 3 Enterprise dataset\n",
      "📄 49,559703645   11,59804342   652   11.08.2025   13:55:42   23   1   R3   Hirschbach-11-16\n",
      "✅ SAPOS query written to D:\\Drohnendaten\\15_FESMART\\01_Daten\\08_Hirschbach\\DJI_202508111606_039_Hirschbach-11-16\\@sapos_query.txt\n",
      "✅ DJI_202508111606_039_Hirschbach-11-16\n",
      "🛸 Detected DJI Mavic 3 Enterprise dataset\n",
      "📄 49,570172944999996   11,615928414999999   620   11.08.2025   14:11:42   23   1   R3   Hirschbach-18\n",
      "✅ SAPOS query written to D:\\Drohnendaten\\15_FESMART\\01_Daten\\08_Hirschbach\\DJI_202508111622_040_Hirschbach-18\\@sapos_query.txt\n",
      "✅ DJI_202508111622_040_Hirschbach-18\n",
      "🛸 Detected DJI Mavic 3 Enterprise dataset\n",
      "📄 49,592348105   11,624749305   711   11.08.2025   14:26:42   26   1   R3   Hirschbach-2-15\n",
      "✅ SAPOS query written to D:\\Drohnendaten\\15_FESMART\\01_Daten\\08_Hirschbach\\DJI_202508111637_041_Hirschbach-2-15\\@sapos_query.txt\n",
      "✅ DJI_202508111637_041_Hirschbach-2-15\n",
      "🛸 Detected DJI Mavic 3 Enterprise dataset\n",
      "📄 49,584493755   11,62072837   667   11.08.2025   14:33:42   25   1   R3   Hirschbach-1\n",
      "✅ SAPOS query written to D:\\Drohnendaten\\15_FESMART\\01_Daten\\08_Hirschbach\\DJI_202508111644_042_Hirschbach-1\\@sapos_query.txt\n",
      "✅ DJI_202508111644_042_Hirschbach-1\n",
      "🛸 Detected DJI Mavic 3 Enterprise dataset\n",
      "📄 49,58033376   11,638774525   665   11.08.2025   14:47:42   25   1   R3   Hirschbach-6\n",
      "✅ SAPOS query written to D:\\Drohnendaten\\15_FESMART\\01_Daten\\08_Hirschbach\\DJI_202508111658_043_Hirschbach-6\\@sapos_query.txt\n",
      "✅ DJI_202508111658_043_Hirschbach-6\n",
      "\n",
      "📝  12 query line(s) saved to D:\\Drohnendaten\\15_FESMART\\01_Daten\\all_sapos_queries.txt\n"
     ]
    }
   ],
   "source": [
    "batch_generate_sapos_queries(\n",
    "    root_dir   = r\"D:\\Drohnendaten\\15_FESMART\\01_Daten\\08_Hirschbach\",\n",
    "    master_out = r\"D:\\Drohnendaten\\15_FESMART\\01_Daten\",  \n",
    "    recurse    = True\n",
    ")"
   ]
  },
  {
   "cell_type": "markdown",
   "id": "25dae32d-b9fd-4455-ae66-80b71a17059e",
   "metadata": {},
   "source": [
    "### Move SAPOS files into matching folders"
   ]
  },
  {
   "cell_type": "code",
   "execution_count": 6,
   "id": "89d81458-39cb-49ed-9c76-51972570c3c1",
   "metadata": {},
   "outputs": [
    {
     "name": "stdout",
     "output_type": "stream",
     "text": [
      "Found 36 file(s) that are placed into matching folders.\n",
      "\n",
      "DRY-RUN move        : 43Hirschwald80H80O_0773239.25o -> D:\\Drohnendaten\\15_FESMART\\01_Daten\\01_RAW_Daten_Stadtwald_Amberg\\01_L2_Data_Matrice350\\02_Hirschwald_3\\DJI_202508270947_43Hirschwald80H80O\\43Hirschwald80H80O_0773239.25o\n",
      "DRY-RUN move        : 43Hirschwald80H80O_Ephm239.25p -> D:\\Drohnendaten\\15_FESMART\\01_Daten\\01_RAW_Daten_Stadtwald_Amberg\\01_L2_Data_Matrice350\\02_Hirschwald_3\\DJI_202508270947_43Hirschwald80H80O\\43Hirschwald80H80O_Ephm239.25p\n",
      "DRY-RUN move        : 43Hirschwald80H80O_Protokoll_0773239_VRS.txt -> D:\\Drohnendaten\\15_FESMART\\01_Daten\\01_RAW_Daten_Stadtwald_Amberg\\01_L2_Data_Matrice350\\02_Hirschwald_3\\DJI_202508270947_43Hirschwald80H80O\\43Hirschwald80H80O_Protokoll_0773239_VRS.txt\n",
      "DRY-RUN move        : 44Hirschwald80H80O_0774239.25o -> D:\\Drohnendaten\\15_FESMART\\01_Daten\\01_RAW_Daten_Stadtwald_Amberg\\01_L2_Data_Matrice350\\02_Hirschwald_3\\DJI_202508271043_44Hirschwald80H80O\\44Hirschwald80H80O_0774239.25o\n",
      "DRY-RUN move        : 44Hirschwald80H80O_Ephm239.25p -> D:\\Drohnendaten\\15_FESMART\\01_Daten\\01_RAW_Daten_Stadtwald_Amberg\\01_L2_Data_Matrice350\\02_Hirschwald_3\\DJI_202508271043_44Hirschwald80H80O\\44Hirschwald80H80O_Ephm239.25p\n",
      "DRY-RUN move        : 44Hirschwald80H80O_Protokoll_0774239_VRS.txt -> D:\\Drohnendaten\\15_FESMART\\01_Daten\\01_RAW_Daten_Stadtwald_Amberg\\01_L2_Data_Matrice350\\02_Hirschwald_3\\DJI_202508271043_44Hirschwald80H80O\\44Hirschwald80H80O_Protokoll_0774239_VRS.txt\n",
      "DRY-RUN move        : 45Hirschwald80H80O_0775239.25o -> D:\\Drohnendaten\\15_FESMART\\01_Daten\\01_RAW_Daten_Stadtwald_Amberg\\01_L2_Data_Matrice350\\02_Hirschwald_3\\DJI_202508271145_45Hirschwald80H80O\\45Hirschwald80H80O_0775239.25o\n",
      "DRY-RUN move        : 45Hirschwald80H80O_Ephm239.25p -> D:\\Drohnendaten\\15_FESMART\\01_Daten\\01_RAW_Daten_Stadtwald_Amberg\\01_L2_Data_Matrice350\\02_Hirschwald_3\\DJI_202508271145_45Hirschwald80H80O\\45Hirschwald80H80O_Ephm239.25p\n",
      "DRY-RUN move        : 45Hirschwald80H80O_Protokoll_0775239_VRS.txt -> D:\\Drohnendaten\\15_FESMART\\01_Daten\\01_RAW_Daten_Stadtwald_Amberg\\01_L2_Data_Matrice350\\02_Hirschwald_3\\DJI_202508271145_45Hirschwald80H80O\\45Hirschwald80H80O_Protokoll_0775239_VRS.txt\n",
      "DRY-RUN move        : 46Hirschwald80H80O_0776239.25o -> D:\\Drohnendaten\\15_FESMART\\01_Daten\\01_RAW_Daten_Stadtwald_Amberg\\01_L2_Data_Matrice350\\02_Hirschwald_3\\DJI_202508271247_46Hirschwald80H80O\\46Hirschwald80H80O_0776239.25o\n",
      "DRY-RUN move        : 46Hirschwald80H80O_Ephm239.25p -> D:\\Drohnendaten\\15_FESMART\\01_Daten\\01_RAW_Daten_Stadtwald_Amberg\\01_L2_Data_Matrice350\\02_Hirschwald_3\\DJI_202508271247_46Hirschwald80H80O\\46Hirschwald80H80O_Ephm239.25p\n",
      "DRY-RUN move        : 46Hirschwald80H80O_Protokoll_0776239_VRS.txt -> D:\\Drohnendaten\\15_FESMART\\01_Daten\\01_RAW_Daten_Stadtwald_Amberg\\01_L2_Data_Matrice350\\02_Hirschwald_3\\DJI_202508271247_46Hirschwald80H80O\\46Hirschwald80H80O_Protokoll_0776239_VRS.txt\n",
      "DRY-RUN move        : 47Hirschwald80H80O_0777239.25o -> D:\\Drohnendaten\\15_FESMART\\01_Daten\\01_RAW_Daten_Stadtwald_Amberg\\01_L2_Data_Matrice350\\02_Hirschwald_3\\DJI_202508271404_47Hirschwald80H80O\\47Hirschwald80H80O_0777239.25o\n",
      "DRY-RUN move        : 47Hirschwald80H80O_Ephm239.25p -> D:\\Drohnendaten\\15_FESMART\\01_Daten\\01_RAW_Daten_Stadtwald_Amberg\\01_L2_Data_Matrice350\\02_Hirschwald_3\\DJI_202508271404_47Hirschwald80H80O\\47Hirschwald80H80O_Ephm239.25p\n",
      "DRY-RUN move        : 47Hirschwald80H80O_Protokoll_0777239_VRS.txt -> D:\\Drohnendaten\\15_FESMART\\01_Daten\\01_RAW_Daten_Stadtwald_Amberg\\01_L2_Data_Matrice350\\02_Hirschwald_3\\DJI_202508271404_47Hirschwald80H80O\\47Hirschwald80H80O_Protokoll_0777239_VRS.txt\n",
      "DRY-RUN move        : 48Hirschwald80H80O_0779239.25o -> D:\\Drohnendaten\\15_FESMART\\01_Daten\\01_RAW_Daten_Stadtwald_Amberg\\01_L2_Data_Matrice350\\02_Hirschwald_3\\DJI_202508271605_48Hirschwald80H80O\\48Hirschwald80H80O_0779239.25o\n",
      "DRY-RUN move        : 48Hirschwald80H80O_Ephm239.25p -> D:\\Drohnendaten\\15_FESMART\\01_Daten\\01_RAW_Daten_Stadtwald_Amberg\\01_L2_Data_Matrice350\\02_Hirschwald_3\\DJI_202508271605_48Hirschwald80H80O\\48Hirschwald80H80O_Ephm239.25p\n",
      "DRY-RUN move        : 48Hirschwald80H80O_Protokoll_0779239_VRS.txt -> D:\\Drohnendaten\\15_FESMART\\01_Daten\\01_RAW_Daten_Stadtwald_Amberg\\01_L2_Data_Matrice350\\02_Hirschwald_3\\DJI_202508271605_48Hirschwald80H80O\\48Hirschwald80H80O_Protokoll_0779239_VRS.txt\n",
      "DRY-RUN move        : 49Hirschwald80H80O_0778239.25o -> D:\\Drohnendaten\\15_FESMART\\01_Daten\\01_RAW_Daten_Stadtwald_Amberg\\01_L2_Data_Matrice350\\02_Hirschwald_3\\DJI_202508271605_49Hirschwald80H80O\\49Hirschwald80H80O_0778239.25o\n",
      "DRY-RUN move        : 49Hirschwald80H80O_Ephm239.25p -> D:\\Drohnendaten\\15_FESMART\\01_Daten\\01_RAW_Daten_Stadtwald_Amberg\\01_L2_Data_Matrice350\\02_Hirschwald_3\\DJI_202508271605_49Hirschwald80H80O\\49Hirschwald80H80O_Ephm239.25p\n",
      "DRY-RUN move        : 49Hirschwald80H80O_Protokoll_0778239_VRS.txt -> D:\\Drohnendaten\\15_FESMART\\01_Daten\\01_RAW_Daten_Stadtwald_Amberg\\01_L2_Data_Matrice350\\02_Hirschwald_3\\DJI_202508271605_49Hirschwald80H80O\\49Hirschwald80H80O_Protokoll_0778239_VRS.txt\n",
      "DRY-RUN move        : 50Hirschwald80H80O_0781239.25o -> D:\\Drohnendaten\\15_FESMART\\01_Daten\\01_RAW_Daten_Stadtwald_Amberg\\01_L2_Data_Matrice350\\02_Hirschwald_3\\DJI_202508271643_50Hirschwald80H80O\\50Hirschwald80H80O_0781239.25o\n",
      "DRY-RUN move        : 50Hirschwald80H80O_Ephm239.25p -> D:\\Drohnendaten\\15_FESMART\\01_Daten\\01_RAW_Daten_Stadtwald_Amberg\\01_L2_Data_Matrice350\\02_Hirschwald_3\\DJI_202508271643_50Hirschwald80H80O\\50Hirschwald80H80O_Ephm239.25p\n",
      "DRY-RUN move        : 50Hirschwald80H80O_Protokoll_0781239_VRS.txt -> D:\\Drohnendaten\\15_FESMART\\01_Daten\\01_RAW_Daten_Stadtwald_Amberg\\01_L2_Data_Matrice350\\02_Hirschwald_3\\DJI_202508271643_50Hirschwald80H80O\\50Hirschwald80H80O_Protokoll_0781239_VRS.txt\n",
      "DRY-RUN move        : 51Hirschwald80H80O_0780239.25o -> D:\\Drohnendaten\\15_FESMART\\01_Daten\\01_RAW_Daten_Stadtwald_Amberg\\01_L2_Data_Matrice350\\02_Hirschwald_3\\DJI_202508271643_51Hirschwald80H80O\\51Hirschwald80H80O_0780239.25o\n",
      "DRY-RUN move        : 51Hirschwald80H80O_Ephm239.25p -> D:\\Drohnendaten\\15_FESMART\\01_Daten\\01_RAW_Daten_Stadtwald_Amberg\\01_L2_Data_Matrice350\\02_Hirschwald_3\\DJI_202508271643_51Hirschwald80H80O\\51Hirschwald80H80O_Ephm239.25p\n",
      "DRY-RUN move        : 51Hirschwald80H80O_Protokoll_0780239_VRS.txt -> D:\\Drohnendaten\\15_FESMART\\01_Daten\\01_RAW_Daten_Stadtwald_Amberg\\01_L2_Data_Matrice350\\02_Hirschwald_3\\DJI_202508271643_51Hirschwald80H80O\\51Hirschwald80H80O_Protokoll_0780239_VRS.txt\n",
      "DRY-RUN move        : 52Hirschwald80H80O_0782239.25o -> D:\\Drohnendaten\\15_FESMART\\01_Daten\\01_RAW_Daten_Stadtwald_Amberg\\01_L2_Data_Matrice350\\02_Hirschwald_3\\DJI_202508271730_52Hirschwald80H80O\\52Hirschwald80H80O_0782239.25o\n",
      "DRY-RUN move        : 52Hirschwald80H80O_Ephm239.25p -> D:\\Drohnendaten\\15_FESMART\\01_Daten\\01_RAW_Daten_Stadtwald_Amberg\\01_L2_Data_Matrice350\\02_Hirschwald_3\\DJI_202508271730_52Hirschwald80H80O\\52Hirschwald80H80O_Ephm239.25p\n",
      "DRY-RUN move        : 52Hirschwald80H80O_Protokoll_0782239_VRS.txt -> D:\\Drohnendaten\\15_FESMART\\01_Daten\\01_RAW_Daten_Stadtwald_Amberg\\01_L2_Data_Matrice350\\02_Hirschwald_3\\DJI_202508271730_52Hirschwald80H80O\\52Hirschwald80H80O_Protokoll_0782239_VRS.txt\n",
      "DRY-RUN move        : 53Hirschwald80H80O_0783239.25o -> D:\\Drohnendaten\\15_FESMART\\01_Daten\\01_RAW_Daten_Stadtwald_Amberg\\01_L2_Data_Matrice350\\02_Hirschwald_3\\DJI_202508271746_53Hirschwald80H80O\\53Hirschwald80H80O_0783239.25o\n",
      "DRY-RUN move        : 53Hirschwald80H80O_Ephm239.25p -> D:\\Drohnendaten\\15_FESMART\\01_Daten\\01_RAW_Daten_Stadtwald_Amberg\\01_L2_Data_Matrice350\\02_Hirschwald_3\\DJI_202508271746_53Hirschwald80H80O\\53Hirschwald80H80O_Ephm239.25p\n",
      "DRY-RUN move        : 53Hirschwald80H80O_Protokoll_0783239_VRS.txt -> D:\\Drohnendaten\\15_FESMART\\01_Daten\\01_RAW_Daten_Stadtwald_Amberg\\01_L2_Data_Matrice350\\02_Hirschwald_3\\DJI_202508271746_53Hirschwald80H80O\\53Hirschwald80H80O_Protokoll_0783239_VRS.txt\n",
      "DRY-RUN move        : 54Hirschwald80H80O_0784239.25o -> D:\\Drohnendaten\\15_FESMART\\01_Daten\\01_RAW_Daten_Stadtwald_Amberg\\01_L2_Data_Matrice350\\02_Hirschwald_3\\DJI_202508271845_54Hirschwald80H80O\\54Hirschwald80H80O_0784239.25o\n",
      "DRY-RUN move        : 54Hirschwald80H80O_Ephm239.25p -> D:\\Drohnendaten\\15_FESMART\\01_Daten\\01_RAW_Daten_Stadtwald_Amberg\\01_L2_Data_Matrice350\\02_Hirschwald_3\\DJI_202508271845_54Hirschwald80H80O\\54Hirschwald80H80O_Ephm239.25p\n",
      "DRY-RUN move        : 54Hirschwald80H80O_Protokoll_0784239_VRS.txt -> D:\\Drohnendaten\\15_FESMART\\01_Daten\\01_RAW_Daten_Stadtwald_Amberg\\01_L2_Data_Matrice350\\02_Hirschwald_3\\DJI_202508271845_54Hirschwald80H80O\\54Hirschwald80H80O_Protokoll_0784239_VRS.txt\n",
      "\n",
      " Complete. 36 move(s) performed.\n"
     ]
    }
   ],
   "source": [
    "organize_files(r\"D:\\Drohnendaten\\15_FESMART\\01_Daten\\01_RAW_Daten_Stadtwald_Amberg\\01_L2_Data_Matrice350\\02_Hirschwald_3\", rename_on_conflict=False)"
   ]
  },
  {
   "cell_type": "markdown",
   "id": "8d202fe2-5dd0-46c6-9c4a-5f07f8af197a",
   "metadata": {},
   "source": [
    "### Rename .25o into .obs"
   ]
  },
  {
   "cell_type": "code",
   "execution_count": 10,
   "id": "7a703e1d-9c0a-402a-aaf6-b811d7b4cd8f",
   "metadata": {},
   "outputs": [
    {
     "name": "stdout",
     "output_type": "stream",
     "text": [
      "[skip] D:\\Drohnendaten\\15_FESMART\\01_Daten\\01_RAW_Daten_Stadtwald_Amberg\\01_L2_Data_Matrice350\\02_Hirschwald_2 – need exactly one .RPOS & one .25o\n",
      "[rename] 36Hirschwald80H80O_0765238.25o → DJI_20250826095142_0002_L.25o\n",
      "[mv   ] DJI_20250826095142_0002_L.25o → DJI_20250826095142_0002_L.obs\n",
      "[rename] 37Hirschwald80H80O_0766238.25o → DJI_20250826110025_0002_L.25o\n",
      "[mv   ] DJI_20250826110025_0002_L.25o → DJI_20250826110025_0002_L.obs\n",
      "[rename] 38Hirschwald80H80O_0767238.25o → DJI_20250826121934_0002_L.25o\n",
      "[mv   ] DJI_20250826121934_0002_L.25o → DJI_20250826121934_0002_L.obs\n",
      "[rename] 39Hirschwald80H80O_0768238.25o → DJI_20250826131511_0002_L.25o\n",
      "[mv   ] DJI_20250826131511_0002_L.25o → DJI_20250826131511_0002_L.obs\n",
      "[rename] 40Hirschwald80H80O_0769238.25o → DJI_20250826151406_0002_L.25o\n",
      "[mv   ] DJI_20250826151406_0002_L.25o → DJI_20250826151406_0002_L.obs\n",
      "[rename] 41Hirschwald80H80O_0770238.25o → DJI_20250826160940_0002_L.25o\n",
      "[mv   ] DJI_20250826160940_0002_L.25o → DJI_20250826160940_0002_L.obs\n",
      "[rename] 42Hirschwald80H80O_0771238.25o → DJI_20250826171036_0002_L.25o\n",
      "[mv   ] DJI_20250826171036_0002_L.25o → DJI_20250826171036_0002_L.obs\n"
     ]
    }
   ],
   "source": [
    "#IMPORTANT: SAPOS files already downloaded and put into the folders accordingly\n",
    "\n",
    "batch_rename_convert(r\"D:\\Drohnendaten\\15_FESMART\\01_Daten\\01_RAW_Daten_Stadtwald_Amberg\\01_L2_Data_Matrice350\\02_Hirschwald_2\", keep_original=False)\n"
   ]
  },
  {
   "cell_type": "markdown",
   "id": "0f2ba95d-609b-4905-b22b-93390b1f922c",
   "metadata": {},
   "source": [
    "### Move .las files into a defined folder"
   ]
  },
  {
   "cell_type": "code",
   "execution_count": null,
   "id": "d716378c-9aee-4823-807a-8d76476d21c6",
   "metadata": {},
   "outputs": [],
   "source": [
    "dry_run_move_las(\"/data/masterfolder\", \"/data/masterfolder/las\", recursive=True)"
   ]
  }
 ],
 "metadata": {
  "kernelspec": {
   "display_name": "Python 3 (ipykernel)",
   "language": "python",
   "name": "python3"
  },
  "language_info": {
   "codemirror_mode": {
    "name": "ipython",
    "version": 3
   },
   "file_extension": ".py",
   "mimetype": "text/x-python",
   "name": "python",
   "nbconvert_exporter": "python",
   "pygments_lexer": "ipython3",
   "version": "3.9.22"
  }
 },
 "nbformat": 4,
 "nbformat_minor": 5
}
